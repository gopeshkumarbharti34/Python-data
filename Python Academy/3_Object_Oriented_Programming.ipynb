{
 "cells": [
  {
   "cell_type": "markdown",
   "metadata": {},
   "source": [
    "# Class Example"
   ]
  },
  {
   "cell_type": "code",
   "execution_count": 1,
   "metadata": {},
   "outputs": [
    {
     "name": "stdout",
     "output_type": "stream",
     "text": [
      "<__main__.Person object at 0x000001CE7D171F60>\n"
     ]
    }
   ],
   "source": [
    "class Person:\n",
    "    pass # An empty block\n",
    "\n",
    "p=Person()\n",
    "print(p)"
   ]
  },
  {
   "cell_type": "markdown",
   "metadata": {},
   "source": [
    "# OOP Method "
   ]
  },
  {
   "cell_type": "code",
   "execution_count": 8,
   "metadata": {},
   "outputs": [
    {
     "name": "stdout",
     "output_type": "stream",
     "text": [
      "Hello , How are You? \n",
      "Hello , How are You? \n"
     ]
    }
   ],
   "source": [
    "class Person:\n",
    "    def say_hi(self):\n",
    "        print('Hello , How are You? ')\n",
    "p=Person()\n",
    "p.say_hi()\n",
    "\n",
    "Person().say_hi()"
   ]
  },
  {
   "cell_type": "markdown",
   "metadata": {},
   "source": [
    "# OOP Initialisation init"
   ]
  },
  {
   "cell_type": "code",
   "execution_count": 13,
   "metadata": {},
   "outputs": [
    {
     "name": "stdout",
     "output_type": "stream",
     "text": [
      "Hello, my name is Vishal\n",
      "Hello, my name is Anil\n"
     ]
    }
   ],
   "source": [
    "class Person:\n",
    "    def __init__ (self,fname):\n",
    "        self.name=fname\n",
    "    def say_hi(self):\n",
    "        print('Hello, my name is', self.name)\n",
    "        \n",
    "p=Person('Vishal')\n",
    "q=Person('Anil')\n",
    "p.say_hi()\n",
    "q.say_hi()"
   ]
  },
  {
   "cell_type": "markdown",
   "metadata": {},
   "source": [
    "# OOP Object and Class Variables "
   ]
  },
  {
   "cell_type": "code",
   "execution_count": 29,
   "metadata": {
    "collapsed": true
   },
   "outputs": [],
   "source": [
    "class Robot:\n",
    "    \"\"\"Represents a robot, with a name\"\"\"\n",
    "    # A class variable, counting the numbers of robot \n",
    "    population=0\n",
    "    \n",
    "    def __init__ (self,name):\n",
    "        \"\"\"Initializes the data\"\"\"\n",
    "        self.name=name\n",
    "        print(\"(Initializing..{})\".format(self.name))\n",
    "        # when this robot is created, the robot\n",
    "        # adds to the population\n",
    "        Robot.population+=1\n",
    "        \n",
    "    def die(self):\n",
    "        \"\"\"I am dying..\"\"\"\n",
    "        print(\"{} is being destroyed\".format(self.name))\n",
    "        Robot.population -=1\n",
    "        if Robot.population ==0:\n",
    "            print(\"{} was the last one.\".format(self.name))\n",
    "        else:\n",
    "            print(\"There are still{:d} robot working.\".format(Robot.population))\n",
    "            \n",
    "            \n",
    "    def say_hi(self):\n",
    "        \"\"\"Greeting by the robot\n",
    "        Yeah, they can do that.\"\"\"\n",
    "        print(\"Greeting, my master call me : {}\".format(self.name))\n",
    "    \n",
    "    @classmethod\n",
    "    def how_many(cls):\n",
    "        \"\"\"Print the current population\"\"\"\n",
    "        print(\"We have {:d} robot..\".format(cls.population))\n",
    "        \n",
    "        "
   ]
  },
  {
   "cell_type": "code",
   "execution_count": 33,
   "metadata": {},
   "outputs": [
    {
     "name": "stdout",
     "output_type": "stream",
     "text": [
      "(Initializing..R2-D2)\n"
     ]
    }
   ],
   "source": [
    "droid1=Robot(\"R2-D2\")"
   ]
  },
  {
   "cell_type": "code",
   "execution_count": 34,
   "metadata": {},
   "outputs": [
    {
     "name": "stdout",
     "output_type": "stream",
     "text": [
      "Greeting, my master call me : R2-D2\n"
     ]
    }
   ],
   "source": [
    "droid1.say_hi()"
   ]
  },
  {
   "cell_type": "code",
   "execution_count": 35,
   "metadata": {},
   "outputs": [
    {
     "name": "stdout",
     "output_type": "stream",
     "text": [
      "We have 1 robot..\n"
     ]
    }
   ],
   "source": [
    "Robot.how_many()"
   ]
  },
  {
   "cell_type": "code",
   "execution_count": 36,
   "metadata": {},
   "outputs": [
    {
     "name": "stdout",
     "output_type": "stream",
     "text": [
      "(Initializing..c-3PO)\n"
     ]
    }
   ],
   "source": [
    "droid2=Robot(\"c-3PO\")"
   ]
  },
  {
   "cell_type": "code",
   "execution_count": 37,
   "metadata": {},
   "outputs": [
    {
     "name": "stdout",
     "output_type": "stream",
     "text": [
      "Greeting, my master call me : c-3PO\n"
     ]
    }
   ],
   "source": [
    "droid2.say_hi()"
   ]
  },
  {
   "cell_type": "code",
   "execution_count": 38,
   "metadata": {},
   "outputs": [
    {
     "name": "stdout",
     "output_type": "stream",
     "text": [
      "We have 2 robot..\n"
     ]
    }
   ],
   "source": [
    "Robot.how_many()"
   ]
  },
  {
   "cell_type": "code",
   "execution_count": 39,
   "metadata": {},
   "outputs": [
    {
     "name": "stdout",
     "output_type": "stream",
     "text": [
      "\n",
      " Robot can do some work here. \n",
      " \n",
      "\n",
      " Robot have finished their work. So let's destroy them.\n"
     ]
    }
   ],
   "source": [
    "print(\"\\n Robot can do some work here. \\n \")\n",
    "print(\"\\n Robot have finished their work. So let's destroy them.\")"
   ]
  },
  {
   "cell_type": "code",
   "execution_count": 40,
   "metadata": {},
   "outputs": [
    {
     "name": "stdout",
     "output_type": "stream",
     "text": [
      "R2-D2 is being destroyed\n",
      "There are still1 robot working.\n"
     ]
    }
   ],
   "source": [
    "droid1.die()"
   ]
  },
  {
   "cell_type": "code",
   "execution_count": 42,
   "metadata": {},
   "outputs": [
    {
     "name": "stdout",
     "output_type": "stream",
     "text": [
      "c-3PO is being destroyed\n",
      "c-3PO was the last one.\n"
     ]
    }
   ],
   "source": [
    "droid2.die()"
   ]
  },
  {
   "cell_type": "code",
   "execution_count": 43,
   "metadata": {},
   "outputs": [
    {
     "name": "stdout",
     "output_type": "stream",
     "text": [
      "We have 0 robot..\n"
     ]
    }
   ],
   "source": [
    "Robot.how_many()"
   ]
  },
  {
   "cell_type": "code",
   "execution_count": 44,
   "metadata": {},
   "outputs": [
    {
     "name": "stdout",
     "output_type": "stream",
     "text": [
      "Greeting by the robot\n",
      "        Yeah, they can do that.\n"
     ]
    }
   ],
   "source": [
    "print(droid1.say_hi.__doc__)"
   ]
  },
  {
   "cell_type": "code",
   "execution_count": 45,
   "metadata": {},
   "outputs": [
    {
     "name": "stdout",
     "output_type": "stream",
     "text": [
      "Represents a robot, with a name\n"
     ]
    }
   ],
   "source": [
    "print(Robot.__doc__)"
   ]
  },
  {
   "cell_type": "markdown",
   "metadata": {
    "collapsed": true
   },
   "source": [
    "# Inheritance"
   ]
  },
  {
   "cell_type": "code",
   "execution_count": 33,
   "metadata": {
    "collapsed": true
   },
   "outputs": [],
   "source": [
    "class SchoolMember:\n",
    "    '''Represents any school Member'''\n",
    "    def __init__ (self,ids,name,age):\n",
    "        self.id=ids\n",
    "        self.name=name\n",
    "        self.age=age\n",
    "        print('(Initialized SchoolMember: {})'.format(self.name))\n",
    "        \n",
    "    def tell(self):\n",
    "        '''Tell my details'''\n",
    "        print('id Number:{} Name:\"{}\"  Age:{}'.format(self.id,self.name,self.age))\n",
    "        \n",
    "class Teacher(SchoolMember):\n",
    "    '''Represent a Teacher'''\n",
    "    def __init__ (self,ids,name,age,salary,leaves):\n",
    "        SchoolMember.__init__ (self,ids,name,age)\n",
    "        self.salary=salary\n",
    "        self.leaves=leaves\n",
    "        print('(Initialized Teacher: {})'.format(self.name))\n",
    "        \n",
    "    def tell(self):\n",
    "        SchoolMember.tell(self)\n",
    "        print('Salary:{} Total Leaves:{}'.format(self.salary,self.leaves))\n",
    "    \n",
    "class Student(SchoolMember):\n",
    "    '''Represent a Student'''\n",
    "    def __init__ (self,ids,name,age,marks,fee):\n",
    "        SchoolMember.__init__ (self,ids,name,age)\n",
    "        self.marks=marks\n",
    "        self.fee=fee\n",
    "        print('(Initialized Student: {})'.format(self.name))\n",
    "        \n",
    "    def tell(self):\n",
    "        SchoolMember.tell(self)\n",
    "        print('Marks:{} Total Fees:{}'.format(self.marks,self.fee))\n",
    "    "
   ]
  },
  {
   "cell_type": "code",
   "execution_count": null,
   "metadata": {
    "collapsed": true
   },
   "outputs": [],
   "source": []
  },
  {
   "cell_type": "code",
   "execution_count": 34,
   "metadata": {},
   "outputs": [
    {
     "name": "stdout",
     "output_type": "stream",
     "text": [
      "(Initialized SchoolMember: Vishal)\n",
      "(Initialized Student: Vishal)\n"
     ]
    }
   ],
   "source": [
    "s=Student(1,\"Vishal\",25,90,90000)"
   ]
  },
  {
   "cell_type": "code",
   "execution_count": 35,
   "metadata": {},
   "outputs": [
    {
     "name": "stdout",
     "output_type": "stream",
     "text": [
      "id Number:1 Name:\"Vishal\"  Age:25\n",
      "Marks:90 Total Fees:90000\n"
     ]
    }
   ],
   "source": [
    "s.tell()"
   ]
  },
  {
   "cell_type": "code",
   "execution_count": 36,
   "metadata": {},
   "outputs": [
    {
     "name": "stdout",
     "output_type": "stream",
     "text": [
      "(Initialized SchoolMember: Praju)\n",
      "(Initialized Teacher: Praju)\n"
     ]
    }
   ],
   "source": [
    "t=Teacher(101,\"Praju\",40,45000,18)"
   ]
  },
  {
   "cell_type": "code",
   "execution_count": 37,
   "metadata": {},
   "outputs": [
    {
     "name": "stdout",
     "output_type": "stream",
     "text": [
      "id Number:101 Name:\"Praju\"  Age:40\n",
      "Salary:45000 Total Leaves:18\n"
     ]
    }
   ],
   "source": [
    "t.tell()"
   ]
  },
  {
   "cell_type": "code",
   "execution_count": 38,
   "metadata": {},
   "outputs": [
    {
     "name": "stdout",
     "output_type": "stream",
     "text": [
      "id Number:1 Name:\"Vishal\"  Age:25\n",
      "Marks:90 Total Fees:90000\n",
      "id Number:101 Name:\"Praju\"  Age:40\n",
      "Salary:45000 Total Leaves:18\n"
     ]
    }
   ],
   "source": [
    "members=[s,t]\n",
    "for member in members:\n",
    "    member.tell()"
   ]
  },
  {
   "cell_type": "markdown",
   "metadata": {},
   "source": [
    "# Passing value from child to Parent "
   ]
  },
  {
   "cell_type": "code",
   "execution_count": 28,
   "metadata": {
    "collapsed": true
   },
   "outputs": [],
   "source": [
    "class SchoolMember:\n",
    "    '''Represents any school Member'''\n",
    "    def __init__ (self,ids,name,age,cat):\n",
    "        self.id=ids\n",
    "        self.name=name\n",
    "        self.age=age\n",
    "        self.cat=cat\n",
    "        print('(Initialized SchoolMember: {})'.format(self.name))\n",
    "        \n",
    "    def tell(self):\n",
    "        '''Tell my details'''\n",
    "        print('id Number:{} Name:\"{}\"  Age:{} Category:{}'.format(self.id,self.name,self.age,self.cat))\n",
    "        \n",
    "class Teacher(SchoolMember):\n",
    "    '''Represent a Teacher'''\n",
    "    def __init__ (self,ids,name,age,salary,leaves):\n",
    "        cat='Teacher'\n",
    "        SchoolMember.__init__ (self,ids,name,age,cat)\n",
    "        self.salary=salary\n",
    "        self.leaves=leaves\n",
    "        print('(Initialized Teacher: {})'.format(self.name))\n",
    "        \n",
    "    def tell(self):\n",
    "        SchoolMember.tell(self)\n",
    "        print('Salary:{} Total Leaves:{}'.format(self.salary,self.leaves))\n",
    "    \n",
    "class Student(SchoolMember):\n",
    "    '''Represent a Student'''\n",
    "    def __init__ (self,ids,name,age,marks,fee):\n",
    "        cat='Student'\n",
    "        SchoolMember.__init__ (self,ids,name,age,cat)\n",
    "        self.marks=marks\n",
    "        self.fee=fee\n",
    "        print('(Initialized Student: {})'.format(self.name))\n",
    "        \n",
    "    def tell(self):\n",
    "        SchoolMember.tell(self)\n",
    "        print('Marks:{} Total Fees:{}'.format(self.marks,self.fee))"
   ]
  },
  {
   "cell_type": "code",
   "execution_count": 29,
   "metadata": {},
   "outputs": [
    {
     "name": "stdout",
     "output_type": "stream",
     "text": [
      "(Initialized SchoolMember: Vishal)\n",
      "(Initialized Student: Vishal)\n"
     ]
    }
   ],
   "source": [
    "s1=Student(1,\"Vishal\",25,90,90000)"
   ]
  },
  {
   "cell_type": "code",
   "execution_count": 30,
   "metadata": {},
   "outputs": [
    {
     "name": "stdout",
     "output_type": "stream",
     "text": [
      "id Number:1 Name:\"Vishal\"  Age:25 Category:Student\n",
      "Marks:90 Total Fees:90000\n"
     ]
    }
   ],
   "source": [
    "s1.tell()"
   ]
  },
  {
   "cell_type": "code",
   "execution_count": 31,
   "metadata": {},
   "outputs": [
    {
     "name": "stdout",
     "output_type": "stream",
     "text": [
      "(Initialized SchoolMember: Praju)\n",
      "(Initialized Teacher: Praju)\n",
      "id Number:101 Name:\"Praju\"  Age:40 Category:Teacher\n",
      "Salary:45000 Total Leaves:18\n"
     ]
    }
   ],
   "source": [
    "t1=Teacher(101,\"Praju\",40,45000,18)\n",
    "t1.tell()"
   ]
  },
  {
   "cell_type": "code",
   "execution_count": null,
   "metadata": {
    "collapsed": true
   },
   "outputs": [],
   "source": []
  }
 ],
 "metadata": {
  "kernelspec": {
   "display_name": "Python 3",
   "language": "python",
   "name": "python3"
  },
  "language_info": {
   "codemirror_mode": {
    "name": "ipython",
    "version": 3
   },
   "file_extension": ".py",
   "mimetype": "text/x-python",
   "name": "python",
   "nbconvert_exporter": "python",
   "pygments_lexer": "ipython3",
   "version": "3.6.3"
  }
 },
 "nbformat": 4,
 "nbformat_minor": 2
}
