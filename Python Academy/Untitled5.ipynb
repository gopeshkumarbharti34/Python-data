{
 "cells": [
  {
   "cell_type": "code",
   "execution_count": 2,
   "metadata": {},
   "outputs": [
    {
     "name": "stdout",
     "output_type": "stream",
     "text": [
      "3\n",
      "1\n",
      "12\n",
      "123\n"
     ]
    }
   ],
   "source": [
    "n=input()\n",
    "temp=int(n)\n",
    "for i in range(1, temp+1):                     \n",
    "    for j in range(1, i+1):\n",
    "        if(j<i):\n",
    "            print(j,end='')\n",
    "        else:\n",
    "            print(j)"
   ]
  },
  {
   "cell_type": "code",
   "execution_count": 6,
   "metadata": {},
   "outputs": [
    {
     "name": "stdout",
     "output_type": "stream",
     "text": [
      "3\n",
      "1\n",
      "12\n",
      "123\n"
     ]
    }
   ],
   "source": [
    "n=input()\n",
    "temp=int(n)\n",
    "for i in range(1, temp+1): \n",
    "    for j in range(1, i+1):\n",
    "        if(j<i):\n",
    "            print(j,end='')\n",
    "        elif(j==i):\n",
    "            print(j)\n",
    "    #print('\\n')\n"
   ]
  },
  {
   "cell_type": "code",
   "execution_count": 15,
   "metadata": {},
   "outputs": [
    {
     "name": "stdout",
     "output_type": "stream",
     "text": [
      "1 7 13 14 15 16 17 18 12 6 5 4 3 2 8 9 10 11 "
     ]
    }
   ],
   "source": [
    "def spiralPrint(m, n, a) :\n",
    "    k = 0; l = 0\n",
    "    while (k < m and l < n) :\n",
    "        for i in range(k, m) :\n",
    "            print(a[i][l], end = \" \")\n",
    "             \n",
    "        l += 1 \n",
    "        for i in range(l, n) :\n",
    "            print(a[m-1][i], end = \" \")\n",
    "             \n",
    "        m -= 1\n",
    "         \n",
    "        if ( l < n) :\n",
    "             \n",
    "            for i in range(m-1 , (k - 1), -1) :\n",
    "                print(a[i][n-1], end = \" \")\n",
    "             \n",
    "            n -= 1\n",
    "         \n",
    "        if (k < m) :\n",
    "            for i in range(n - 1, l - 1, -1) :\n",
    "                print(a[k][i], end = \" \")\n",
    "             \n",
    "            k += 1\n",
    " \n",
    "\n",
    "a = [ [1,2,3],\n",
    "      [4,5,6],\n",
    "      [7,8,9] ]\n",
    "       \n",
    "R = 3; C = 6\n",
    "spiralPrint(R, C, a)\n",
    " \n"
   ]
  },
  {
   "cell_type": "code",
   "execution_count": null,
   "metadata": {
    "collapsed": true
   },
   "outputs": [],
   "source": []
  }
 ],
 "metadata": {
  "kernelspec": {
   "display_name": "Python 3",
   "language": "python",
   "name": "python3"
  }
 },
 "nbformat": 4,
 "nbformat_minor": 2
}
