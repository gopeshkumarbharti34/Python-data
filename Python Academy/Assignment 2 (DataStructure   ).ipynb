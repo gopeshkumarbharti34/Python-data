{
 "cells": [
  {
   "cell_type": "code",
   "execution_count": 2,
   "metadata": {},
   "outputs": [
    {
     "name": "stdout",
     "output_type": "stream",
     "text": [
      "55\n"
     ]
    }
   ],
   "source": [
    "# 1. Write a Python program to sum all the items in a list (of integers)\n",
    "\n",
    "list1=[1,2,3,4,5,6,7,8,9,10]\n",
    "sum=0\n",
    "for i in list1:\n",
    "    sum=sum+i\n",
    "print(sum)"
   ]
  },
  {
   "cell_type": "code",
   "execution_count": 9,
   "metadata": {},
   "outputs": [
    {
     "name": "stdout",
     "output_type": "stream",
     "text": [
      "Largest Number:  12\n"
     ]
    }
   ],
   "source": [
    "# 2. Write a Python program to get the largest number from a list (of integers)\n",
    "\n",
    "list2=[1,3,5,2,12,7,8,4,9]\n",
    "max=list2[0]\n",
    "for i in list2:\n",
    "    if (max<i):\n",
    "        max=i\n",
    "print(\"Largest Number: \",max)"
   ]
  },
  {
   "cell_type": "code",
   "execution_count": 39,
   "metadata": {},
   "outputs": [
    {
     "name": "stdout",
     "output_type": "stream",
     "text": [
      "[(2, 1), (1, 2), (2, 3), (4, 4), (2, 5)]\n"
     ]
    }
   ],
   "source": [
    "# 3. Write a Python program to get a list, sorted in increasing order by the last element in each tuple from a given list \n",
    "#    of non-empty tuples.\n",
    "#    Sample List: [(2, 5), (1, 2), (4, 4), (2, 3), (2, 1)]\n",
    "#    Expected Result: [(2, 1), (1, 2), (2, 3), (4, 4), (2, 5)]\n",
    "\n",
    "list3=[(2, 5), (1, 2), (4, 4), (2, 3), (2, 1)]\n",
    "llen=len(list3)\n",
    "for i in range(0,llen-1,1):\n",
    "    for j in range(i+1,llen,1):\n",
    "        if(list3[i][1]>list3[j][1]):\n",
    "            temp=list3[i]\n",
    "            list3[i]=list3[j]\n",
    "            list3[j]=temp\n",
    "print(list3)\n"
   ]
  },
  {
   "cell_type": "code",
   "execution_count": 10,
   "metadata": {},
   "outputs": [
    {
     "name": "stdout",
     "output_type": "stream",
     "text": [
      "True\n"
     ]
    }
   ],
   "source": [
    "# 4. Write a Python function that takes two lists and returns True, if they have at least one common member.\n",
    "\n",
    "status=bool(0)\n",
    "list4=[55,66,77,11,22,33,44,99]\n",
    "list5=[10,20,30,40,66,70]\n",
    "llen1=len(list4)\n",
    "llen2=len(list5)\n",
    "for i in range(0,llen1,1):\n",
    "    for j in range(0,llen2,1):\n",
    "        if(list4[i]==list5[j]):\n",
    "            status=bool(1) \n",
    "            break\n",
    "    if(status):\n",
    "        break\n",
    "print(status)"
   ]
  },
  {
   "cell_type": "code",
   "execution_count": 13,
   "metadata": {},
   "outputs": [
    {
     "name": "stdout",
     "output_type": "stream",
     "text": [
      "True\n"
     ]
    }
   ],
   "source": [
    "# 4. Other Solution \n",
    "status=bool(0)\n",
    "list4=[55,66,77,11,22,33,44,99]\n",
    "list5=[10,20,30,40,66,70]\n",
    "for i in list4:\n",
    "    if i in list5:\n",
    "        status=bool(1) \n",
    "        break\n",
    "print(status)"
   ]
  },
  {
   "cell_type": "code",
   "execution_count": 21,
   "metadata": {},
   "outputs": [
    {
     "name": "stdout",
     "output_type": "stream",
     "text": [
      "abcd\n"
     ]
    }
   ],
   "source": [
    "# 5. Write a Python program to convert a list of characters into a string.\n",
    "\n",
    "list6=['a','b','c','d']\n",
    "length=len(list6)\n",
    "list6.reverse()\n",
    "str=''\n",
    "for i in range(0,length,1):\n",
    "    str=str+list6.pop()\n",
    "print(str)\n"
   ]
  },
  {
   "cell_type": "code",
   "execution_count": 2,
   "metadata": {},
   "outputs": [
    {
     "name": "stdout",
     "output_type": "stream",
     "text": [
      "{'dog': 5, 'pencil': 2, 'fence': 1, 'apple': 1, 'pear': 3}\n"
     ]
    }
   ],
   "source": [
    "# 6. Suppose you have the list:\n",
    "#    ['dog', 'pencil', 'fence', 'dog', 'apple', 'dog', 'dog', 'dog', 'pear', 'pencil', 'pear', 'pear']\n",
    "#    Using a dictionary, compute the numbers of times each word occurs.\n",
    "\n",
    "l=['dog', 'pencil', 'fence', 'dog', 'apple', 'dog', 'dog', 'dog', 'pear', 'pencil', 'pear', 'pear']\n",
    "dic={}\n",
    "for i in l:\n",
    "    if i in dic:\n",
    "        dic[i]=dic[i]+1\n",
    "    else:\n",
    "        dic[i]=1\n",
    "print(dic)"
   ]
  },
  {
   "cell_type": "code",
   "execution_count": 7,
   "metadata": {},
   "outputs": [
    {
     "name": "stdout",
     "output_type": "stream",
     "text": [
      "Enter Element want to search : apple\n",
      "Element Present At Index : 3\n"
     ]
    }
   ],
   "source": [
    "# 7. Write a Python program to check whether an element exists within a tuple\n",
    "\n",
    "t=('dog', 'pencil', 'fence', 'apple', 'pear')\n",
    "search=input('Enter Element want to search : ')\n",
    "length=len(t)\n",
    "for i in range(0,length,1):\n",
    "    if search==t[i]:\n",
    "        print('Element Present At Index :',i)\n",
    "        \n",
    "\n",
    "    \n"
   ]
  },
  {
   "cell_type": "code",
   "execution_count": 2,
   "metadata": {},
   "outputs": [
    {
     "name": "stdout",
     "output_type": "stream",
     "text": [
      "Enter the value of N : 5\n",
      "{1: 1, 2: 4, 3: 9, 4: 16, 5: 25}\n"
     ]
    }
   ],
   "source": [
    "# 8. Write a Python script to generate and print a dictionary that contains a number (between 1 and n) in the form (x, x*x).\n",
    "#    Sample Dictionary ( n = 5) :\n",
    "#   Expected Output: {1: 1, 2: 4, 3: 9, 4: 16, 5: 25}\n",
    "\n",
    "n=int(input('Enter the value of N : '))\n",
    "dic={}\n",
    "i=1\n",
    "while(i<=n):\n",
    "    if i not in dic:\n",
    "        dic[i]=i**2\n",
    "    i=i+1\n",
    "print(dic)"
   ]
  },
  {
   "cell_type": "code",
   "execution_count": 25,
   "metadata": {},
   "outputs": [
    {
     "name": "stdout",
     "output_type": "stream",
     "text": [
      "{'a': 400, 'b': 400, 'c': 300, 'd': 400}\n"
     ]
    }
   ],
   "source": [
    "# 9. Write a Python program to combine two dictionary adding values for common keys.\n",
    "#   d1 = {'a': 100, 'b': 200, 'c':300}\n",
    "#   d2 = {'a': 300, 'b': 200, 'd':400}\n",
    "#   Sample output: Counter({'a': 400, 'b': 400, 'd': 400, 'c': 300})\n",
    "\n",
    "d1 = {'a': 100, 'b': 200, 'c':300}\n",
    "d2 = {'a': 300, 'b': 200, 'd':400}\n",
    "counter={}\n",
    "for i in d1:\n",
    "    if i in d2:\n",
    "        counter[i]=d1[i]+d2[i]\n",
    "    else:\n",
    "        counter[i]=d1[i]\n",
    "for i in d2:\n",
    "    if i not in d1:\n",
    "        counter[i]=d2[i]\n",
    "print(counter)"
   ]
  },
  {
   "cell_type": "code",
   "execution_count": null,
   "metadata": {
    "collapsed": true
   },
   "outputs": [],
   "source": []
  }
 ],
 "metadata": {
  "kernelspec": {
   "display_name": "Python 3",
   "language": "python",
   "name": "python3"
  },
  "language_info": {
   "codemirror_mode": {
    "name": "ipython",
    "version": 3
   },
   "file_extension": ".py",
   "mimetype": "text/x-python",
   "name": "python",
   "nbconvert_exporter": "python",
   "pygments_lexer": "ipython3",
   "version": "3.6.3"
  }
 },
 "nbformat": 4,
 "nbformat_minor": 2
}
