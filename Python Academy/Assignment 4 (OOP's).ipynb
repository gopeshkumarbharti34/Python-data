{
 "cells": [
  {
   "cell_type": "markdown",
   "metadata": {},
   "source": [
    "#### (4) Modeling a car is another classic exercise.\n",
    "####       Define a Car() class.\n",
    "####       In the __init__() function, define several attributes of a car. Some good attributes to consider are make (Subaru, Audi, Volvo...), model (Outback, allroad, C30), year, num_doors, owner, or any other aspect of a car you care to include in your class.\n",
    "####       Write one method. This could be something such as describe_car(). This method could print a series of statements that describe the car, using the information that is stored in the attributes. You could also write a method that adjusts the mileage of the car or tracks its position.\n",
    "####       Create a car object, and use your method.\n",
    "####       Create several car objects with different values for the attributes. Use your method on several of your cars."
   ]
  },
  {
   "cell_type": "code",
   "execution_count": 1,
   "metadata": {
    "collapsed": true
   },
   "outputs": [],
   "source": [
    "class Car:\n",
    "    def __init__ (self,model,year,owner,mavg):\n",
    "        self.model=model\n",
    "        self.year=year\n",
    "        self.owner=owner\n",
    "        self.mavg=mavg\n",
    "    def describe_car(self):\n",
    "        print(\" Car Model :{} \\n Car Year of Manifacture: {} \\n Car Owner Name: {} \\n Car Maximum Average: {}\".format(self.model,self.year,self.owner,self.mavg))\n",
    "        "
   ]
  },
  {
   "cell_type": "code",
   "execution_count": 3,
   "metadata": {
    "collapsed": true
   },
   "outputs": [],
   "source": [
    "c1=Car('Audi',2017,\"Vishal\",22)"
   ]
  },
  {
   "cell_type": "code",
   "execution_count": 4,
   "metadata": {},
   "outputs": [
    {
     "name": "stdout",
     "output_type": "stream",
     "text": [
      " Car Model :Audi \n",
      " Car Year of Manifacture: 2017 \n",
      " Car Owner Name: Vishal \n",
      " Car Maximum Average: 22\n"
     ]
    }
   ],
   "source": [
    "c1.describe_car()"
   ]
  },
  {
   "cell_type": "code",
   "execution_count": 5,
   "metadata": {
    "collapsed": true
   },
   "outputs": [],
   "source": [
    "c2=Car('BMW',2015,'Roshan',20)"
   ]
  },
  {
   "cell_type": "code",
   "execution_count": 6,
   "metadata": {},
   "outputs": [
    {
     "name": "stdout",
     "output_type": "stream",
     "text": [
      " Car Model :BMW \n",
      " Car Year of Manifacture: 2015 \n",
      " Car Owner Name: Roshan \n",
      " Car Maximum Average: 20\n"
     ]
    }
   ],
   "source": [
    "c2.describe_car()"
   ]
  },
  {
   "cell_type": "markdown",
   "metadata": {},
   "source": [
    "#### (3) Modeling a person is a classic exercise for people who are trying to learn how to write classes. We are all familiar with characteristics and behaviors of people, so it is a good exercise to try.\n",
    "####  Define a Person() class.\n",
    "####  In the __init()__ function, define several attributes of a person. Good attributes to consider are name, age, place of birth, and anything else you like to know about the people in your life.\n",
    "####  Write one method. This could be as simple as introduce_yourself(). This method would print out a statement such as, \"Hello, my name is Eric.\"\n",
    "####  You could also make a method such as age_person(). A simple version of this method would just add 1 to the person's age.\n",
    "####   o A more complicated version of this method would involve storing the person's birthdate rather than their age, and then calculating the age whenever the age is requested. But dealing with dates and times is not particularly easy if you've never done it in any other programming language before.\n",
    "####  Create a person, set the attribute values appropriately, and print out information about the person.\n",
    "####  Call your method on the person you created. Make sure your method executed properly; if the method does not print anything out directly, print something before and after calling the method to make sure it did what it was supposed to."
   ]
  },
  {
   "cell_type": "code",
   "execution_count": 7,
   "metadata": {
    "collapsed": true
   },
   "outputs": [],
   "source": [
    "class Person:\n",
    "    def __init__ (self,name,age,placeofbirth):\n",
    "        self.name=name\n",
    "        self.age=age\n",
    "        self.placeofbirth=placeofbirth\n",
    "        \n",
    "    def introduce_yourself(self):\n",
    "        print(\"Hello, my name is {} \\n Age: {} \".format(self.name,self.age))\n",
    "        \n",
    "    def age_person(self):\n",
    "        self.age=self.age+1\n",
    "        \n",
    "    "
   ]
  },
  {
   "cell_type": "code",
   "execution_count": 8,
   "metadata": {
    "collapsed": true
   },
   "outputs": [],
   "source": [
    "p1=Person(\"Vishal\",26,\"Nagpur\")"
   ]
  },
  {
   "cell_type": "code",
   "execution_count": 9,
   "metadata": {},
   "outputs": [
    {
     "name": "stdout",
     "output_type": "stream",
     "text": [
      "Hello, my name is Vishal \n",
      " Age: 26 \n"
     ]
    }
   ],
   "source": [
    "p1.introduce_yourself()"
   ]
  },
  {
   "cell_type": "code",
   "execution_count": 10,
   "metadata": {
    "collapsed": true
   },
   "outputs": [],
   "source": [
    "p1.age_person()"
   ]
  },
  {
   "cell_type": "code",
   "execution_count": 11,
   "metadata": {},
   "outputs": [
    {
     "name": "stdout",
     "output_type": "stream",
     "text": [
      "Hello, my name is Vishal \n",
      " Age: 27 \n"
     ]
    }
   ],
   "source": [
    "p1.introduce_yourself()"
   ]
  },
  {
   "cell_type": "markdown",
   "metadata": {
    "collapsed": true
   },
   "source": [
    "#### (1) Create the Rocket class as per the following details.\n",
    "####  Define the Rocket() class.\n",
    "####  Define the __init__() method, which sets an x and a y value for each Rocket object.\n",
    "####  Define the move_up() method.\n",
    "####  Create a Rocket object.\n",
    "####  Print the object.\n",
    "####  Print the object's y-value.\n",
    "####  Move the rocket up, and print its y-value again."
   ]
  },
  {
   "cell_type": "code",
   "execution_count": 13,
   "metadata": {
    "collapsed": true
   },
   "outputs": [],
   "source": [
    "class Rocket:\n",
    "    def __init__ (self,x,y):\n",
    "        self.x=x\n",
    "        self.y=y\n",
    "        \n",
    "    def move_up(self,y1):\n",
    "        self.y=y1\n",
    "    def position(self):\n",
    "        print(\"Rocket is on Position axis x={} and y={} \".format(self.x,self.y))\n",
    "    "
   ]
  },
  {
   "cell_type": "code",
   "execution_count": null,
   "metadata": {
    "collapsed": true
   },
   "outputs": [],
   "source": []
  },
  {
   "cell_type": "code",
   "execution_count": 14,
   "metadata": {
    "collapsed": true
   },
   "outputs": [],
   "source": [
    "r1=Rocket(5,10)"
   ]
  },
  {
   "cell_type": "code",
   "execution_count": 15,
   "metadata": {
    "collapsed": true
   },
   "outputs": [],
   "source": [
    "r1.move_up(15)"
   ]
  },
  {
   "cell_type": "code",
   "execution_count": 16,
   "metadata": {},
   "outputs": [
    {
     "name": "stdout",
     "output_type": "stream",
     "text": [
      "Rocket is on Position axis x=5 and y=15 \n"
     ]
    }
   ],
   "source": [
    "r1.position()"
   ]
  },
  {
   "cell_type": "markdown",
   "metadata": {},
   "source": [
    "#### (2) There are enough new concepts here that you might want to try re-creating the Rocket class as it has been developed so far.\n",
    "#### Re-create the Rocket class as it has been developed so far:\n",
    "#### o Define the Rocket() class.\n",
    "#### o Define the __init__() method. Let your __init__() method accept x and y values for the initial position of the rocket. Make sure the default behavior is to position the rocket at (0,0).\n",
    "#### o Define the move_rocket() method. The method should accept an amount to move left or right, and an amount to move up or down.\n",
    "#### o Create a Rocket object. Move the rocket around, printing its position after each move.\n",
    "#### o Create a small fleet of rockets. Move several of them around, and print their final positions to prove that each rocket can move independently of the other rockets.\n",
    "#### o Define the get_distance() method. The method should accept a Rocket object, and calculate the distance between the current rocket and the rocket that is passed into the method.\n",
    "#### o Use the get_distance() method to print the distances between several of the rockets in your fleet. (Distance = sqrt(sqr(x) + sqr(y)))"
   ]
  },
  {
   "cell_type": "code",
   "execution_count": 20,
   "metadata": {
    "collapsed": true
   },
   "outputs": [],
   "source": [
    "class Rocket:\n",
    "    def __init__ (self,name):\n",
    "        self.name=name\n",
    "        self.x=0\n",
    "        self.y=0\n",
    "        \n",
    "    def move_rocket(self,x,y):\n",
    "        self.x=x\n",
    "        self.y=y\n",
    "        \n",
    "    def position(self):\n",
    "        print(\"Rocket {} is on Position axis x={} and y={} \".format(self.name,self.x,self.y))\n",
    "        \n",
    "    def get_distance(self):\n",
    "        distance=(self.x**2 + self.y**2)**0.5\n",
    "        print('Rocket {} at Distance={}'.format(self.name,distance))"
   ]
  },
  {
   "cell_type": "code",
   "execution_count": 21,
   "metadata": {
    "collapsed": true
   },
   "outputs": [],
   "source": [
    "r1=Rocket('Robo1')"
   ]
  },
  {
   "cell_type": "code",
   "execution_count": 22,
   "metadata": {
    "collapsed": true
   },
   "outputs": [],
   "source": [
    "r1.move_rocket(4,5)"
   ]
  },
  {
   "cell_type": "code",
   "execution_count": 23,
   "metadata": {},
   "outputs": [
    {
     "name": "stdout",
     "output_type": "stream",
     "text": [
      "Rocket Robo1 is on Position axis x=4 and y=5 \n"
     ]
    }
   ],
   "source": [
    "r1.position()"
   ]
  },
  {
   "cell_type": "code",
   "execution_count": 24,
   "metadata": {
    "collapsed": true
   },
   "outputs": [],
   "source": [
    "r2=Rocket('Robo2')"
   ]
  },
  {
   "cell_type": "code",
   "execution_count": 25,
   "metadata": {
    "collapsed": true
   },
   "outputs": [],
   "source": [
    "r2.move_rocket(5,8)"
   ]
  },
  {
   "cell_type": "code",
   "execution_count": 26,
   "metadata": {},
   "outputs": [
    {
     "name": "stdout",
     "output_type": "stream",
     "text": [
      "Rocket Robo2 is on Position axis x=5 and y=8 \n"
     ]
    }
   ],
   "source": [
    "r2.position()"
   ]
  },
  {
   "cell_type": "code",
   "execution_count": 27,
   "metadata": {},
   "outputs": [
    {
     "name": "stdout",
     "output_type": "stream",
     "text": [
      "Rocket Robo2 at Distance=9.433981132056603\n"
     ]
    }
   ],
   "source": [
    "r2.get_distance()"
   ]
  },
  {
   "cell_type": "code",
   "execution_count": 8,
   "metadata": {
    "collapsed": true
   },
   "outputs": [],
   "source": [
    "class Rocket:\n",
    "    def __init__ (self,name):\n",
    "        self.name=name\n",
    "        self.x=0\n",
    "        self.y=0\n",
    "        \n",
    "    def move_rocket(self,pos,step):\n",
    "        if pos=='R':\n",
    "            self.x+=step\n",
    "        elif pos=='L':\n",
    "            self.x-=step\n",
    "        elif pos=='U':\n",
    "            self.y+=step\n",
    "        elif pos=='D':\n",
    "            self.y-=step\n",
    "        print(\"Rocket {} is on Position axis x={} and y={} \".format(self.name,self.x,self.y))\n",
    "        \n",
    "    def get_distance(self,p):\n",
    "        distance=((self.x-p.x)**2 + (self.y-p.y)**2)**0.5\n",
    "        print('Rocket {} & Rocket {} at Distance={}'.format(self.name,p.name,distance))"
   ]
  },
  {
   "cell_type": "code",
   "execution_count": 9,
   "metadata": {
    "collapsed": true
   },
   "outputs": [],
   "source": [
    "r1=Rocket('Rocket1')"
   ]
  },
  {
   "cell_type": "code",
   "execution_count": 10,
   "metadata": {},
   "outputs": [
    {
     "name": "stdout",
     "output_type": "stream",
     "text": [
      "Rocket Rocket1 is on Position axis x=0 and y=2 \n"
     ]
    }
   ],
   "source": [
    "r1.move_rocket('U',2)"
   ]
  },
  {
   "cell_type": "code",
   "execution_count": 11,
   "metadata": {},
   "outputs": [
    {
     "name": "stdout",
     "output_type": "stream",
     "text": [
      "Rocket Rocket1 is on Position axis x=8 and y=2 \n"
     ]
    }
   ],
   "source": [
    "r1.move_rocket('R',8)"
   ]
  },
  {
   "cell_type": "code",
   "execution_count": 12,
   "metadata": {
    "collapsed": true
   },
   "outputs": [],
   "source": [
    "r2=Rocket('Rocket2')"
   ]
  },
  {
   "cell_type": "code",
   "execution_count": 13,
   "metadata": {},
   "outputs": [
    {
     "name": "stdout",
     "output_type": "stream",
     "text": [
      "Rocket Rocket2 is on Position axis x=0 and y=7 \n"
     ]
    }
   ],
   "source": [
    "r2.move_rocket(\"U\",7)"
   ]
  },
  {
   "cell_type": "code",
   "execution_count": 14,
   "metadata": {},
   "outputs": [
    {
     "name": "stdout",
     "output_type": "stream",
     "text": [
      "Rocket Rocket2 is on Position axis x=1 and y=7 \n"
     ]
    }
   ],
   "source": [
    "r2.move_rocket(\"R\",1)"
   ]
  },
  {
   "cell_type": "code",
   "execution_count": 15,
   "metadata": {},
   "outputs": [
    {
     "name": "stdout",
     "output_type": "stream",
     "text": [
      "Rocket Rocket1 & Rocket Rocket2 at Distance=8.602325267042627\n"
     ]
    }
   ],
   "source": [
    "r1.get_distance(r2)"
   ]
  },
  {
   "cell_type": "code",
   "execution_count": null,
   "metadata": {
    "collapsed": true
   },
   "outputs": [],
   "source": []
  },
  {
   "cell_type": "code",
   "execution_count": null,
   "metadata": {
    "collapsed": true
   },
   "outputs": [],
   "source": []
  },
  {
   "cell_type": "code",
   "execution_count": null,
   "metadata": {
    "collapsed": true
   },
   "outputs": [],
   "source": []
  },
  {
   "cell_type": "code",
   "execution_count": null,
   "metadata": {
    "collapsed": true
   },
   "outputs": [],
   "source": []
  }
 ],
 "metadata": {
  "kernelspec": {
   "display_name": "Python 3",
   "language": "python",
   "name": "python3"
  },
  "language_info": {
   "codemirror_mode": {
    "name": "ipython",
    "version": 3
   },
   "file_extension": ".py",
   "mimetype": "text/x-python",
   "name": "python",
   "nbconvert_exporter": "python",
   "pygments_lexer": "ipython3",
   "version": "3.6.3"
  }
 },
 "nbformat": 4,
 "nbformat_minor": 2
}
