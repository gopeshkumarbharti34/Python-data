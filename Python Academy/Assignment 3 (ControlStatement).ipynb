{
 "cells": [
  {
   "cell_type": "markdown",
   "metadata": {},
   "source": [
    "# Assignment 3 "
   ]
  },
  {
   "cell_type": "markdown",
   "metadata": {},
   "source": [
    "#### 1. Try implementing the factorial function using either a “while” loop or a “for” loop. Which do you think is better? Which do you think is easier to understand?\n"
   ]
  },
  {
   "cell_type": "code",
   "execution_count": 7,
   "metadata": {},
   "outputs": [
    {
     "name": "stdout",
     "output_type": "stream",
     "text": [
      "Enter any number: 6\n",
      "720\n"
     ]
    }
   ],
   "source": [
    "fact=1\n",
    "def fact1(n):\n",
    "    global fact\n",
    "    while(n):\n",
    "        fact=fact*(n)\n",
    "        n=n-1\n",
    "\n",
    "input_n=int(input('Enter any number: '))\n",
    "fact1(input_n)\n",
    "print(fact)"
   ]
  },
  {
   "cell_type": "markdown",
   "metadata": {},
   "source": [
    "#### 2. Write a function which squares a number and then use it to write a function which takes three integers and returns the sum of their squares.\n"
   ]
  },
  {
   "cell_type": "code",
   "execution_count": 4,
   "metadata": {},
   "outputs": [
    {
     "name": "stdout",
     "output_type": "stream",
     "text": [
      "Enter Number3\n",
      "Enter Number4\n",
      "Enter Number1\n",
      "26\n"
     ]
    }
   ],
   "source": [
    "def sq(n):\n",
    "    return n**2\n",
    "n1=int(input('Enter Number'))\n",
    "n2=int(input('Enter Number'))\n",
    "n3=int(input('Enter Number'))\n",
    "sum_sq=sq(n1)+sq(n2)+sq(n3)\n",
    "print(sum_sq)"
   ]
  },
  {
   "cell_type": "markdown",
   "metadata": {},
   "source": [
    "#### 3. Write a function which prints the natural numbers less than “n” (input value) which are divisible by 3, divisible by 5 but not divisible by 10.\n"
   ]
  },
  {
   "cell_type": "code",
   "execution_count": 3,
   "metadata": {},
   "outputs": [
    {
     "name": "stdout",
     "output_type": "stream",
     "text": [
      "Enter any number: 30\n",
      "15\n"
     ]
    }
   ],
   "source": [
    "def div(n):\n",
    "    for i in range(0,n,1):\n",
    "        if(i%3==0 and i%5==0 and i%10!=0):\n",
    "            print(i)\n",
    "N=int(input('Enter any number: '))\n",
    "div(N)"
   ]
  },
  {
   "cell_type": "markdown",
   "metadata": {},
   "source": [
    "#### 4. Write a Python program to print the even numbers from a given list."
   ]
  },
  {
   "cell_type": "code",
   "execution_count": 6,
   "metadata": {},
   "outputs": [
    {
     "name": "stdout",
     "output_type": "stream",
     "text": [
      "4\n",
      "2\n",
      "8\n",
      "10\n"
     ]
    }
   ],
   "source": [
    "def peven(l):\n",
    "    for i in l:\n",
    "        if(i%2==0):\n",
    "            print(i)\n",
    "            \n",
    "lis=[3,5,4,2,8,10]\n",
    "peven(lis)"
   ]
  },
  {
   "cell_type": "code",
   "execution_count": null,
   "metadata": {
    "collapsed": true
   },
   "outputs": [],
   "source": []
  }
 ],
 "metadata": {
  "kernelspec": {
   "display_name": "Python 3",
   "language": "python",
   "name": "python3"
  },
  "language_info": {
   "codemirror_mode": {
    "name": "ipython",
    "version": 3
   },
   "file_extension": ".py",
   "mimetype": "text/x-python",
   "name": "python",
   "nbconvert_exporter": "python",
   "pygments_lexer": "ipython3",
   "version": "3.6.3"
  }
 },
 "nbformat": 4,
 "nbformat_minor": 2
}
