{
 "cells": [
  {
   "cell_type": "markdown",
   "metadata": {},
   "source": [
    "1. Write a continuous while loop where you take the integer input from command prompt one by one, And if the number n is odd \n",
    "print \"Number is odd\" else print \"Number is even\". End the loop when Zero is entered. \n"
   ]
  },
  {
   "cell_type": "code",
   "execution_count": 3,
   "metadata": {},
   "outputs": [
    {
     "name": "stdout",
     "output_type": "stream",
     "text": [
      "Enter Any Number=6\n",
      "Number is even\n",
      "Enter Any Number=7\n",
      "Number is odd\n",
      "Enter Any Number=4\n",
      "Number is even\n",
      "Enter Any Number=3\n",
      "Number is odd\n",
      "Enter Any Number=0\n"
     ]
    }
   ],
   "source": [
    "n=1\n",
    "while(n):\n",
    "    n=int(input(\"Enter Any Number=\"))\n",
    "    if n==0:\n",
    "        break\n",
    "    elif n%2==0:\n",
    "        print(\"Number is even\")\n",
    "    else:\n",
    "        print(\"Number is odd\")\n",
    "        "
   ]
  },
  {
   "cell_type": "markdown",
   "metadata": {},
   "source": [
    "2. Write a continuous while loop where you take the integer input from command prompt. The loop will continue to \n",
    "print \"you are great\", on each input integers except 8. On receiving 8, it should break the loop and print \"out of loop\"."
   ]
  },
  {
   "cell_type": "code",
   "execution_count": 4,
   "metadata": {},
   "outputs": [
    {
     "name": "stdout",
     "output_type": "stream",
     "text": [
      "Enter Any Number=6\n",
      "You are great\n",
      "Enter Any Number=3\n",
      "You are great\n",
      "Enter Any Number=5\n",
      "You are great\n",
      "Enter Any Number=6\n",
      "You are great\n",
      "Enter Any Number=2\n",
      "You are great\n",
      "Enter Any Number=5\n",
      "You are great\n",
      "Enter Any Number=8\n",
      "out of loop\n"
     ]
    }
   ],
   "source": [
    "n=1\n",
    "while(n):\n",
    "    n=int(input(\"Enter Any Number=\"))\n",
    "    if n==8:\n",
    "        break\n",
    "    else:\n",
    "        print(\"You are great\")\n",
    "print(\"out of loop\")"
   ]
  },
  {
   "cell_type": "markdown",
   "metadata": {},
   "source": [
    "3. Write a big block structure file, which when runs gives the following output\n",
    " ##################\n",
    " ##1. Name   ##\n",
    " ##2. Age    ##\n",
    " ##3. Exit   ##\n",
    " ##################\n",
    "What is you option : _ _\n",
    "This program should continuously run until option 3 is not given.\n",
    "When option 1 is given it will ask for “Enter your Name” and print “Hello” + Name.\n",
    "When option 2 is given it will ask “Enter your age” and print “Your age is” + age."
   ]
  },
  {
   "cell_type": "code",
   "execution_count": 2,
   "metadata": {},
   "outputs": [
    {
     "name": "stdout",
     "output_type": "stream",
     "text": [
      "####################\n",
      "##  1.Name        ##\n",
      "##  2.Age         ##\n",
      "##  3.Exit        ##\n",
      "####################\n",
      "Enter your option 1\n",
      "Enter your NameVishal\n",
      "Hello Vishal\n",
      "Enter your option 2\n",
      "Enter your age35\n",
      "Enter your age 35\n",
      "Enter your option 3\n"
     ]
    }
   ],
   "source": [
    "print(\"####################\")\n",
    "print(\"##  1.Name        ##\")\n",
    "print(\"##  2.Age         ##\")\n",
    "print(\"##  3.Exit        ##\")\n",
    "print(\"####################\")\n",
    "n=1\n",
    "while(n!=3):\n",
    "    n=int(input(\"Enter your option \"))\n",
    "    if n==1:\n",
    "        name=input(\"Enter your Name\")\n",
    "        print(\"Hello \"+name)\n",
    "    elif n==2:\n",
    "        age=input(\"Enter your age\")\n",
    "        print(\"Enter your age \"+age)"
   ]
  },
  {
   "cell_type": "markdown",
   "metadata": {},
   "source": [
    "4. Print the nth summation value for following series\n",
    "1^2 + 2^2 + 3^2 + 4^2 +.......\n",
    "Where x^y means y to the power of x. As input a value n is pass, so the summation up to that element has to be given."
   ]
  },
  {
   "cell_type": "code",
   "execution_count": 4,
   "metadata": {},
   "outputs": [
    {
     "name": "stdout",
     "output_type": "stream",
     "text": [
      "Enter any Number3\n",
      "Sum= 14\n"
     ]
    }
   ],
   "source": [
    "n=int(input(\"Enter any Number\"))\n",
    "sum=0;\n",
    "for i in range(1,n+1,1):\n",
    "    sum=sum+i**2\n",
    "print(\"Sum=\",sum)"
   ]
  },
  {
   "cell_type": "markdown",
   "metadata": {},
   "source": [
    "5. Print the nth summation value for following series\n",
    " 1^2 + ( 1^2 + 2^2 ) + (1^2 + 2^2 + 3^2) + .......\n",
    " Where x^y means y to the power of x. As input a value n is pass, so the summation up to that element has to be given.\n",
    " Hint: Try to use 2 loops.\n"
   ]
  },
  {
   "cell_type": "code",
   "execution_count": 6,
   "metadata": {},
   "outputs": [
    {
     "name": "stdout",
     "output_type": "stream",
     "text": [
      "Enter any Number3\n",
      "Sum= 20\n"
     ]
    }
   ],
   "source": [
    "n=int(input(\"Enter any Number\"))\n",
    "sum=0;\n",
    "for i in range(1,n+1,1):\n",
    "    for i in range(1,i+1,1):\n",
    "        sum=sum+i**2\n",
    "print(\"Sum=\",sum)"
   ]
  },
  {
   "cell_type": "markdown",
   "metadata": {
    "collapsed": true
   },
   "source": [
    "6.Write down for loop to print nth Fibonacci value. (n will be pass as input) 0,1,1,2,3,5,8,13.... e.g \n",
    "If user pass value 5(n) as input, program should print 3 (as 5th Fibonacci number is series) as output."
   ]
  },
  {
   "cell_type": "code",
   "execution_count": 3,
   "metadata": {},
   "outputs": [
    {
     "name": "stdout",
     "output_type": "stream",
     "text": [
      "Enter Any value3\n",
      "1\n"
     ]
    }
   ],
   "source": [
    "n=int(input(\"Enter Any value\"))\n",
    "sum=0\n",
    "val1=0\n",
    "val2=0\n",
    "for i in range(0,n,1):\n",
    "    sum=val1+val2\n",
    "   # print(sum)\n",
    "    val1=val2\n",
    "    if(i==0):\n",
    "        val2=1\n",
    "    elif(i==1):\n",
    "        val1=0\n",
    "    else:\n",
    "        val2=sum\n",
    "print(sum)"
   ]
  },
  {
   "cell_type": "code",
   "execution_count": null,
   "metadata": {
    "collapsed": true
   },
   "outputs": [],
   "source": [
    "7. Above Program using 2 variables "
   ]
  },
  {
   "cell_type": "code",
   "execution_count": 22,
   "metadata": {},
   "outputs": [
    {
     "name": "stdout",
     "output_type": "stream",
     "text": [
      "Enter Any value3\n",
      "1\n"
     ]
    }
   ],
   "source": [
    "n=int(input(\"Enter Any value\"))\n",
    "val1=0\n",
    "val2=1\n",
    "if n==1:\n",
    "    print(val1)\n",
    "if n==2:\n",
    "    print(val2)\n",
    "\n",
    "for i in range(1,n,1):\n",
    "    val2=val1+val2\n",
    "    if i==n-2:\n",
    "        print(val2)\n",
    "    val1=val2-val1\n",
    "   \n",
    "    \n",
    "    \n"
   ]
  },
  {
   "cell_type": "markdown",
   "metadata": {},
   "source": [
    "8. Print the nth summation value for following series on Fibonacci series\n",
    "0^2 + ( 0^2 + 1^2 ) + (0^2 + 1^2 + 1^2) +(0^2 + 1^2 + 1^2 + 2^2)+ ......."
   ]
  },
  {
   "cell_type": "code",
   "execution_count": 23,
   "metadata": {},
   "outputs": [
    {
     "name": "stdout",
     "output_type": "stream",
     "text": [
      "Enter Any value4\n",
      "9\n"
     ]
    }
   ],
   "source": [
    "n=int(input(\"Enter Any value\"))\n",
    "sum2=0\n",
    "for z in range(1,n+1,1):\n",
    "    sum=0\n",
    "    val1=0\n",
    "    val2=0\n",
    "    for i in range(1,z+1,1):\n",
    "        sum=val1+val2\n",
    "        sum2=sum2+sum**2\n",
    "        val1=val2\n",
    "        if(i==1):\n",
    "            val2=1\n",
    "        elif(i==2):\n",
    "            val1=0\n",
    "        else:\n",
    "            val2=sum\n",
    "print(sum2)"
   ]
  },
  {
   "cell_type": "code",
   "execution_count": null,
   "metadata": {
    "collapsed": true
   },
   "outputs": [],
   "source": []
  }
 ],
 "metadata": {
  "kernelspec": {
   "display_name": "Python 3",
   "language": "python",
   "name": "python3"
  },
  "language_info": {
   "codemirror_mode": {
    "name": "ipython",
    "version": 3
   },
   "file_extension": ".py",
   "mimetype": "text/x-python",
   "name": "python",
   "nbconvert_exporter": "python",
   "pygments_lexer": "ipython3",
   "version": "3.6.3"
  }
 },
 "nbformat": 4,
 "nbformat_minor": 2
}
