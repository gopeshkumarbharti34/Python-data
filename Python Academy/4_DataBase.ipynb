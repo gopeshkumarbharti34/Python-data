{
 "cells": [
  {
   "cell_type": "markdown",
   "metadata": {},
   "source": [
    "# DataBase Connection Using Python"
   ]
  },
  {
   "cell_type": "code",
   "execution_count": 1,
   "metadata": {
    "collapsed": true
   },
   "outputs": [],
   "source": [
    "import sqlite3"
   ]
  },
  {
   "cell_type": "code",
   "execution_count": 3,
   "metadata": {
    "collapsed": true
   },
   "outputs": [],
   "source": [
    "# Create a database in RAM\n",
    "db=sqlite3.connect(':memory:')"
   ]
  },
  {
   "cell_type": "code",
   "execution_count": 4,
   "metadata": {
    "collapsed": true
   },
   "outputs": [],
   "source": [
    "# Creates or opens a file called mydb with a SQLite3 DB\n",
    "db=sqlite3.connect('MyDB')"
   ]
  },
  {
   "cell_type": "code",
   "execution_count": 5,
   "metadata": {
    "collapsed": true
   },
   "outputs": [],
   "source": [
    "db.close()"
   ]
  },
  {
   "cell_type": "markdown",
   "metadata": {},
   "source": [
    "# Creation of Table "
   ]
  },
  {
   "cell_type": "code",
   "execution_count": 7,
   "metadata": {},
   "outputs": [
    {
     "name": "stdout",
     "output_type": "stream",
     "text": [
      "Drop Command Executed Successfully \n",
      "Table Created\n"
     ]
    }
   ],
   "source": [
    "db=sqlite3.connect('MyDB')\n",
    "# Get a cursor Object\n",
    "cur=db.cursor()\n",
    "\n",
    "# Drop table if it already exist using execute() method.\n",
    "if cur.execute(\"DROP TABLE IF EXISTS custs\"):\n",
    "    print('Drop Command Executed Successfully ')\n",
    "    \n",
    "# Create Table\n",
    "if cur.execute(\"CREATE TABLE custs(id INTEGER PRIMARY KEY, name TEXT, phone TEXT, email TEXT UNIQUE, course TEXT)\"):\n",
    "    print('Table Created')\n",
    "    \n",
    "db.commit()\n",
    "cur.close()\n",
    "db.close()\n"
   ]
  },
  {
   "cell_type": "markdown",
   "metadata": {},
   "source": [
    "# INSERT Data"
   ]
  },
  {
   "cell_type": "code",
   "execution_count": 8,
   "metadata": {},
   "outputs": [
    {
     "name": "stdout",
     "output_type": "stream",
     "text": [
      "1 Record Inserted Successfully\n",
      "2 Record Inserted Successfully\n"
     ]
    }
   ],
   "source": [
    "## Insert ##\n",
    "db=sqlite3.connect('MyDB')\n",
    "\n",
    "# Get Cursor Object\n",
    "cur=db.cursor()\n",
    "\n",
    "# Insert Into custs\n",
    "\n",
    "if cur.execute(\"INSERT INTO custs(name,course) VALUES(?,?)\",('Vishal','Python')):\n",
    "    print('1 Record Inserted Successfully')\n",
    "\n",
    "if cur.execute(\"INSERT INTO custs(name,course) VALUES(?,?)\",('Roshan','JAVA')):\n",
    "    print('2 Record Inserted Successfully')\n",
    "    "
   ]
  },
  {
   "cell_type": "code",
   "execution_count": 9,
   "metadata": {},
   "outputs": [
    {
     "name": "stdout",
     "output_type": "stream",
     "text": [
      "3 Record Inserted Successfully\n"
     ]
    }
   ],
   "source": [
    "# Insert into custs from Dictionary\n",
    "if cur.execute(\"INSERT INTO custs(name,course) VALUES(:name,:course)\",{'name':'Abhijeet','course':'CAD/CAM'}):\n",
    "    print('3 Record Inserted Successfully')\n"
   ]
  },
  {
   "cell_type": "code",
   "execution_count": 10,
   "metadata": {},
   "outputs": [
    {
     "name": "stdout",
     "output_type": "stream",
     "text": [
      "4 Record Inserted Successfully\n"
     ]
    }
   ],
   "source": [
    "# Insert into custs using executemany (List of tuples we are using)\n",
    "if cur.executemany(\"INSERT INTO custs(name,course) VALUES(?,?)\",[('Pranay','WebApp'),('Viraj','Android')]):\n",
    "    print('4 Record Inserted Successfully')\n",
    "    \n",
    "    \n",
    "db.commit()\n",
    "cur.close()\n",
    "db.close()"
   ]
  },
  {
   "cell_type": "markdown",
   "metadata": {},
   "source": [
    "# Select Data from DataBase"
   ]
  },
  {
   "cell_type": "code",
   "execution_count": 5,
   "metadata": {},
   "outputs": [
    {
     "name": "stdout",
     "output_type": "stream",
     "text": [
      "Record cursor is ready\n",
      "________________________________________________________________\n",
      "('Vishal', 'Python')\n",
      "________________________________________________________________\n",
      "Roshan,JAVA\n",
      "Abhijeet,CAD/CAM\n",
      "Pranay,WebApp\n",
      "Viraj,Android\n"
     ]
    }
   ],
   "source": [
    "# Select Data\n",
    "db=sqlite3.connect('MyDB')\n",
    "\n",
    "# Get Coursor object\n",
    "cur=db.cursor()\n",
    "\n",
    "# select Coursor from custs\n",
    "if cur.execute(\"SELECT name,course from custs\"):\n",
    "    print('Record cursor is ready')\n",
    "    \n",
    "print('________________________________________________________________')\n",
    "\n",
    "# Fetch using fetchone()\n",
    "\n",
    "record1=cur.fetchone()\n",
    "print(record1)\n",
    "print('________________________________________________________________')\n",
    "\n",
    "# Fetch using fetchall()\n",
    "recordsall=cur.fetchall()\n",
    "for record in recordsall:\n",
    "    print('{0},{1}'.format(record[0],record[1]))\n",
    "    \n",
    "db.commit()\n",
    "cur.close()\n",
    "db.close()\n",
    "\n"
   ]
  },
  {
   "cell_type": "code",
   "execution_count": 9,
   "metadata": {},
   "outputs": [
    {
     "name": "stdout",
     "output_type": "stream",
     "text": [
      "Record Coursor is Ready\n",
      "________________________________________________________________\n",
      "Vishal,Python\n",
      "Roshan,JAVA\n",
      "Abhijeet,CAD/CAM\n",
      "Pranay,WebApp\n",
      "Viraj,Android\n"
     ]
    }
   ],
   "source": [
    "# Select Commands\n",
    "db=sqlite3.connect('MyDB')\n",
    "\n",
    "# get cursor\n",
    "cur=db.cursor()\n",
    "\n",
    "# select cursor for custs\n",
    "if cur.execute(\"SELECT name,course FROM custs\"):\n",
    "    print('Record Coursor is Ready')\n",
    "print('________________________________________________________________')\n",
    "\n",
    "# Cursor object used as iterator\n",
    "\n",
    "for record in cur:\n",
    "    print('{0},{1}'.format(record[0],record[1]))\n"
   ]
  },
  {
   "cell_type": "code",
   "execution_count": 10,
   "metadata": {},
   "outputs": [
    {
     "name": "stdout",
     "output_type": "stream",
     "text": [
      "Record cursor is ready\n",
      "________________________________________________________________\n",
      "Pranay,WebApp\n"
     ]
    }
   ],
   "source": [
    "# Select with where clause\n",
    "\n",
    "if cur.execute(\"SELECT name,course FROM custs WHERE name=?\",('Pranay',)):\n",
    "    print('Record cursor is ready')\n",
    "    \n",
    "print('________________________________________________________________')\n",
    "\n",
    "\n",
    "# Cursor object used as iterator\n",
    "\n",
    "for record in cur:\n",
    "    print('{0},{1}'.format(record[0],record[1]))\n",
    "    \n",
    "db.commit()\n",
    "cur.close()\n",
    "db.close()"
   ]
  },
  {
   "cell_type": "markdown",
   "metadata": {
    "collapsed": true
   },
   "source": [
    "# Update in DataBase\n"
   ]
  },
  {
   "cell_type": "code",
   "execution_count": 22,
   "metadata": {},
   "outputs": [
    {
     "name": "stdout",
     "output_type": "stream",
     "text": [
      "Record Updated Successfully\n",
      "Record cursor is ready\n",
      "------------------------------------------------------------------------------\n",
      "Pranay,SparkWeb\n"
     ]
    }
   ],
   "source": [
    "## Update##\n",
    "db=sqlite3.connect('MyDB')\n",
    "# Get a cursor Object\n",
    "\n",
    "cur=db.cursor()\n",
    "\n",
    "# Insert Into custs\n",
    "\n",
    "if cur.execute(\"UPDATE custs SET course=? WHERE name=?\",('SparkWeb','Pranay')):\n",
    "    print(\"Record Updated Successfully\")\n",
    "    \n",
    "# select with where clause \n",
    "\n",
    "if cur.execute(\"SELECT name,course FROM custs WHERE name=?\",('Pranay',)):\n",
    "    print('Record cursor is ready')\n",
    "    \n",
    "print('------------------------------------------------------------------------------')\n",
    "\n",
    "\n",
    "for record in cur:\n",
    "    print('{0},{1}'.format(record[0],record[1]))\n",
    "    \n",
    "    \n",
    "db.commit()\n",
    "cur.close()\n",
    "db.close()"
   ]
  },
  {
   "cell_type": "markdown",
   "metadata": {},
   "source": [
    "# Delete From Table"
   ]
  },
  {
   "cell_type": "code",
   "execution_count": 21,
   "metadata": {},
   "outputs": [
    {
     "name": "stdout",
     "output_type": "stream",
     "text": [
      "Record Deleted Successfully\n",
      "Record cursor is ready\n",
      "------------------------------------------------------------------------------\n",
      "Vishal,Python\n",
      "Roshan,JAVA\n",
      "Pranay,SparkWeb\n",
      "Viraj,Android\n"
     ]
    }
   ],
   "source": [
    "## Delete##\n",
    "db=sqlite3.connect('MyDB')\n",
    "# Get a cursor Object\n",
    "\n",
    "cur=db.cursor()\n",
    "\n",
    "# Insert Into custs\n",
    "\n",
    "if cur.execute(\"DELETE FROM custs WHERE name=?\",('Abhijeet',)):\n",
    "    print(\"Record Deleted Successfully\")\n",
    "    \n",
    "# select with where clause \n",
    "\n",
    "if cur.execute(\"SELECT name,course FROM custs\"):\n",
    "    print('Record cursor is ready')\n",
    "    \n",
    "print('------------------------------------------------------------------------------')\n",
    "\n",
    "\n",
    "for record in cur:\n",
    "    print('{0},{1}'.format(record[0],record[1]))\n",
    "    \n",
    "    \n",
    "db.commit()\n",
    "cur.close()\n",
    "db.close()"
   ]
  },
  {
   "cell_type": "code",
   "execution_count": 23,
   "metadata": {},
   "outputs": [
    {
     "name": "stdout",
     "output_type": "stream",
     "text": [
      "Table is dropped\n"
     ]
    }
   ],
   "source": [
    "## Drop##\n",
    "db=sqlite3.connect('MyDB')\n",
    "# Get a cursor Object\n",
    "\n",
    "cur=db.cursor()\n",
    "\n",
    "# Drop custs Table\n",
    "\n",
    "if cur.execute(\"DROP TABLE custs\"):\n",
    "    print(\"Table is dropped\")\n",
    "\n",
    "    \n",
    "    \n",
    "db.commit()\n",
    "cur.close()\n",
    "db.close()"
   ]
  },
  {
   "cell_type": "code",
   "execution_count": 24,
   "metadata": {},
   "outputs": [
    {
     "ename": "OperationalError",
     "evalue": "no such table: custs",
     "output_type": "error",
     "traceback": [
      "\u001b[1;31m---------------------------------------------------------------------------\u001b[0m",
      "\u001b[1;31mOperationalError\u001b[0m                          Traceback (most recent call last)",
      "\u001b[1;32m<ipython-input-24-00adcf68e75b>\u001b[0m in \u001b[0;36m<module>\u001b[1;34m()\u001b[0m\n\u001b[0;32m      8\u001b[0m \u001b[1;31m# select with where clause\u001b[0m\u001b[1;33m\u001b[0m\u001b[1;33m\u001b[0m\u001b[0m\n\u001b[0;32m      9\u001b[0m \u001b[1;33m\u001b[0m\u001b[0m\n\u001b[1;32m---> 10\u001b[1;33m \u001b[1;32mif\u001b[0m \u001b[0mcur\u001b[0m\u001b[1;33m.\u001b[0m\u001b[0mexecute\u001b[0m\u001b[1;33m(\u001b[0m\u001b[1;34m\"SELECT name,course FROM custs\"\u001b[0m\u001b[1;33m)\u001b[0m\u001b[1;33m:\u001b[0m\u001b[1;33m\u001b[0m\u001b[0m\n\u001b[0m\u001b[0;32m     11\u001b[0m     \u001b[0mprint\u001b[0m\u001b[1;33m(\u001b[0m\u001b[1;34m'Record cursor is ready'\u001b[0m\u001b[1;33m)\u001b[0m\u001b[1;33m\u001b[0m\u001b[0m\n\u001b[0;32m     12\u001b[0m \u001b[1;33m\u001b[0m\u001b[0m\n",
      "\u001b[1;31mOperationalError\u001b[0m: no such table: custs"
     ]
    }
   ],
   "source": [
    "## Select##\n",
    "db=sqlite3.connect('MyDB')\n",
    "# Get a cursor Object\n",
    "\n",
    "cur=db.cursor()\n",
    "\n",
    "    \n",
    "# select with where clause \n",
    "\n",
    "if cur.execute(\"SELECT name,course FROM custs\"):\n",
    "    print('Record cursor is ready')\n",
    "    \n",
    "print('------------------------------------------------------------------------------')\n",
    "\n",
    "\n",
    "for record in cur:\n",
    "    print('{0},{1}'.format(record[0],record[1]))\n",
    "    \n",
    "    \n",
    "db.commit()\n",
    "cur.close()\n",
    "db.close()"
   ]
  },
  {
   "cell_type": "code",
   "execution_count": 3,
   "metadata": {},
   "outputs": [
    {
     "name": "stdout",
     "output_type": "stream",
     "text": [
      "Drop Command Executed Successfully \n",
      "Table Created\n"
     ]
    }
   ],
   "source": [
    "db1=sqlite3.connect('Data1')\n",
    "cur=db1.cursor()\n",
    "fcount=0\n",
    "# Drop table if it already exist using execute() method.\n",
    "if cur.execute(\"DROP TABLE IF EXISTS frnd\"):\n",
    "    print('Drop Command Executed Successfully ')\n",
    "    \n",
    "# Create Table\n",
    "if cur.execute(\"CREATE TABLE frnd(id INTEGER PRIMARY KEY, name TEXT, phone TEXT, email TEXT UNIQUE, city TEXT)\"):\n",
    "    print('Table Created')"
   ]
  },
  {
   "cell_type": "code",
   "execution_count": null,
   "metadata": {
    "collapsed": true
   },
   "outputs": [],
   "source": [
    "def insert():\n",
    "    global fcount\n",
    "    name=input(\"Enter your friend name \")"
   ]
  },
  {
   "cell_type": "code",
   "execution_count": 4,
   "metadata": {
    "collapsed": true
   },
   "outputs": [],
   "source": [
    "cur.close()\n",
    "db1.close()"
   ]
  },
  {
   "cell_type": "code",
   "execution_count": null,
   "metadata": {
    "collapsed": true
   },
   "outputs": [],
   "source": []
  }
 ],
 "metadata": {
  "kernelspec": {
   "display_name": "Python 3",
   "language": "python",
   "name": "python3"
  },
  "language_info": {
   "codemirror_mode": {
    "name": "ipython",
    "version": 3
   },
   "file_extension": ".py",
   "mimetype": "text/x-python",
   "name": "python",
   "nbconvert_exporter": "python",
   "pygments_lexer": "ipython3",
   "version": "3.6.3"
  }
 },
 "nbformat": 4,
 "nbformat_minor": 2
}
