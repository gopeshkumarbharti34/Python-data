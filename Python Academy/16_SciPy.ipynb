{
 "cells": [
  {
   "cell_type": "code",
   "execution_count": 1,
   "metadata": {
    "collapsed": true
   },
   "outputs": [],
   "source": [
    "from scipy import integrate\n",
    "import numpy as np"
   ]
  },
  {
   "cell_type": "markdown",
   "metadata": {},
   "source": [
    "# Integration"
   ]
  },
  {
   "cell_type": "code",
   "execution_count": 3,
   "metadata": {},
   "outputs": [
    {
     "name": "stdout",
     "output_type": "stream",
     "text": [
      "(21.333333333333336, 2.368475785867001e-13)\n",
      "21.333333333333332\n"
     ]
    }
   ],
   "source": [
    "x2=lambda x: x**2\n",
    "print(integrate.quad(x2,0,4))\n",
    "print(4**3/3)     #analytical Result"
   ]
  },
  {
   "cell_type": "code",
   "execution_count": 4,
   "metadata": {},
   "outputs": [
    {
     "name": "stdout",
     "output_type": "stream",
     "text": [
      "(1.0000000000000002, 5.842606996763696e-11)\n"
     ]
    }
   ],
   "source": [
    "invexp=lambda x: np.exp(-x)\n",
    "print(integrate.quad(invexp,0,np.inf))\n"
   ]
  },
  {
   "cell_type": "code",
   "execution_count": 5,
   "metadata": {},
   "outputs": [
    {
     "name": "stdout",
     "output_type": "stream",
     "text": [
      "(2.0, 2.220446049250313e-14)\n"
     ]
    }
   ],
   "source": [
    "## [sin x] from 0 to pi\n",
    "invsin=lambda x: np.sin(x)\n",
    "print(integrate.quad(invsin,0,np.pi))"
   ]
  },
  {
   "cell_type": "code",
   "execution_count": 6,
   "metadata": {
    "collapsed": true
   },
   "outputs": [],
   "source": [
    "# Optimization "
   ]
  },
  {
   "cell_type": "code",
   "execution_count": 8,
   "metadata": {
    "collapsed": true
   },
   "outputs": [],
   "source": [
    "from scipy import optimize\n",
    "from matplotlib import pyplot as plt"
   ]
  },
  {
   "cell_type": "code",
   "execution_count": 9,
   "metadata": {},
   "outputs": [
    {
     "data": {
      "image/png": "[encoded data removed]",
      "text/plain": [
       "<matplotlib.figure.Figure at 0x1f02294d6a0>"
      ]
     },
     "metadata": {},
     "output_type": "display_data"
    }
   ],
   "source": [
    "############################ Finding the minimum of scalar funtion #############################\n",
    "\n",
    "def f(x):\n",
    "    return x**2+10*np.sin(x)\n",
    "\n",
    "x=np.arange(-10,10,0.1)\n",
    "plt.plot(x,f(x))\n",
    "plt.show()"
   ]
  },
  {
   "cell_type": "code",
   "execution_count": 10,
   "metadata": {},
   "outputs": [
    {
     "name": "stdout",
     "output_type": "stream",
     "text": [
      "[ 3.83746709]\n"
     ]
    }
   ],
   "source": [
    "############################ BFGS Algorithm ###################################\n",
    "print(optimize.fmin_bfgs(f,3,disp=False))"
   ]
  },
  {
   "cell_type": "code",
   "execution_count": 11,
   "metadata": {},
   "outputs": [
    {
     "name": "stdout",
     "output_type": "stream",
     "text": [
      "Optimization terminated successfully.\n",
      "         Current function value: -7.945823\n",
      "         Iterations: 5\n",
      "         Function evaluations: 18\n",
      "         Gradient evaluations: 6\n",
      "[-1.30644012]\n"
     ]
    }
   ],
   "source": [
    "print(optimize.fmin_bfgs(f,0))"
   ]
  },
  {
   "cell_type": "code",
   "execution_count": 12,
   "metadata": {},
   "outputs": [
    {
     "name": "stdout",
     "output_type": "stream",
     "text": [
      "                        fun: -7.945823375615284\n",
      " lowest_optimization_result:       fun: -7.945823375615284\n",
      " hess_inv: array([[ 0.08581168]])\n",
      "      jac: array([  1.19209290e-07])\n",
      "  message: 'Optimization terminated successfully.'\n",
      "     nfev: 15\n",
      "      nit: 3\n",
      "     njev: 5\n",
      "   status: 0\n",
      "  success: True\n",
      "        x: array([-1.30644001])\n",
      "                    message: ['requested number of basinhopping iterations completed successfully']\n",
      "      minimization_failures: 0\n",
      "                       nfev: 1518\n",
      "                        nit: 100\n",
      "                       njev: 506\n",
      "                          x: array([-1.30644001])\n"
     ]
    }
   ],
   "source": [
    "########################## basinhopping #################################3333333\n",
    "print(optimize.basinhopping(f,0))"
   ]
  },
  {
   "cell_type": "code",
   "execution_count": 13,
   "metadata": {},
   "outputs": [
    {
     "name": "stdout",
     "output_type": "stream",
     "text": [
      "[ 0.]\n",
      "------------------------------------------------------------\n",
      "[-2.47948183]\n",
      "------------------------------------------------------------\n",
      "[  2.57477778e-12  -2.47948183e+00]\n",
      "------------------------------------------------------------\n"
     ]
    }
   ],
   "source": [
    "##################### Roots of Scalar function ################################333\n",
    "root=optimize.fsolve(f,1) #our initial guess is 1\n",
    "print(root)\n",
    "print('------------------------------------------------------------')\n",
    "\n",
    "root2=optimize.fsolve(f,-2.5)\n",
    "print(root2)\n",
    "print('------------------------------------------------------------')\n",
    "\n",
    "root3=optimize.fsolve(f,[1,-2.5])\n",
    "print(root3)\n",
    "print('------------------------------------------------------------')"
   ]
  },
  {
   "cell_type": "code",
   "execution_count": 16,
   "metadata": {},
   "outputs": [
    {
     "data": {
      "image/png": "[encoded data removed]",
      "text/plain": [
       "<matplotlib.figure.Figure at 0x1f0233585c0>"
      ]
     },
     "metadata": {},
     "output_type": "display_data"
    }
   ],
   "source": [
    "### self\n",
    "def f(x):\n",
    "    return x**2+10*np.cos(x)\n",
    "\n",
    "x=np.arange(-10,10,0.1)\n",
    "plt.plot(x,f(x))\n",
    "plt.show()"
   ]
  },
  {
   "cell_type": "markdown",
   "metadata": {},
   "source": [
    "# Linear Algebra "
   ]
  },
  {
   "cell_type": "code",
   "execution_count": 17,
   "metadata": {
    "collapsed": true
   },
   "outputs": [],
   "source": [
    "from scipy import linalg"
   ]
  },
  {
   "cell_type": "code",
   "execution_count": 18,
   "metadata": {},
   "outputs": [
    {
     "name": "stdout",
     "output_type": "stream",
     "text": [
      "-2.0\n"
     ]
    }
   ],
   "source": [
    "######################### scipy.linalg.det()#################################\n",
    "\n",
    "arr=np.array([[1,2],[3,4]])\n",
    "\n",
    "print(linalg.det(arr))"
   ]
  },
  {
   "cell_type": "code",
   "execution_count": 19,
   "metadata": {},
   "outputs": [
    {
     "name": "stdout",
     "output_type": "stream",
     "text": [
      "0.0\n"
     ]
    }
   ],
   "source": [
    "\n",
    "arr=np.array([[3,2],[6,4]])\n",
    "\n",
    "print(linalg.det(arr)) #singular matrix, Det. is zero "
   ]
  },
  {
   "cell_type": "code",
   "execution_count": 22,
   "metadata": {},
   "outputs": [
    {
     "ename": "ValueError",
     "evalue": "expected square matrix",
     "output_type": "error",
     "traceback": [
      "\u001b[1;31m---------------------------------------------------------------------------\u001b[0m",
      "\u001b[1;31mValueError\u001b[0m                                Traceback (most recent call last)",
      "\u001b[1;32m<ipython-input-22-85d26fd85add>\u001b[0m in \u001b[0;36m<module>\u001b[1;34m()\u001b[0m\n\u001b[1;32m----> 1\u001b[1;33m \u001b[0mprint\u001b[0m\u001b[1;33m(\u001b[0m\u001b[0mlinalg\u001b[0m\u001b[1;33m.\u001b[0m\u001b[0mdet\u001b[0m\u001b[1;33m(\u001b[0m\u001b[0mnp\u001b[0m\u001b[1;33m.\u001b[0m\u001b[0mones\u001b[0m\u001b[1;33m(\u001b[0m\u001b[1;33m(\u001b[0m\u001b[1;36m3\u001b[0m\u001b[1;33m,\u001b[0m\u001b[1;36m4\u001b[0m\u001b[1;33m)\u001b[0m\u001b[1;33m)\u001b[0m\u001b[1;33m)\u001b[0m\u001b[1;33m)\u001b[0m \u001b[1;31m#det. is allowed only for Square MAtrix\u001b[0m\u001b[1;33m\u001b[0m\u001b[0m\n\u001b[0m",
      "\u001b[1;32mC:\\ProgramData\\Anaconda3\\lib\\site-packages\\scipy\\linalg\\basic.py\u001b[0m in \u001b[0;36mdet\u001b[1;34m(a, overwrite_a, check_finite)\u001b[0m\n\u001b[0;32m    874\u001b[0m     \u001b[0ma1\u001b[0m \u001b[1;33m=\u001b[0m \u001b[0m_asarray_validated\u001b[0m\u001b[1;33m(\u001b[0m\u001b[0ma\u001b[0m\u001b[1;33m,\u001b[0m \u001b[0mcheck_finite\u001b[0m\u001b[1;33m=\u001b[0m\u001b[0mcheck_finite\u001b[0m\u001b[1;33m)\u001b[0m\u001b[1;33m\u001b[0m\u001b[0m\n\u001b[0;32m    875\u001b[0m     \u001b[1;32mif\u001b[0m \u001b[0mlen\u001b[0m\u001b[1;33m(\u001b[0m\u001b[0ma1\u001b[0m\u001b[1;33m.\u001b[0m\u001b[0mshape\u001b[0m\u001b[1;33m)\u001b[0m \u001b[1;33m!=\u001b[0m \u001b[1;36m2\u001b[0m \u001b[1;32mor\u001b[0m \u001b[0ma1\u001b[0m\u001b[1;33m.\u001b[0m\u001b[0mshape\u001b[0m\u001b[1;33m[\u001b[0m\u001b[1;36m0\u001b[0m\u001b[1;33m]\u001b[0m \u001b[1;33m!=\u001b[0m \u001b[0ma1\u001b[0m\u001b[1;33m.\u001b[0m\u001b[0mshape\u001b[0m\u001b[1;33m[\u001b[0m\u001b[1;36m1\u001b[0m\u001b[1;33m]\u001b[0m\u001b[1;33m:\u001b[0m\u001b[1;33m\u001b[0m\u001b[0m\n\u001b[1;32m--> 876\u001b[1;33m         \u001b[1;32mraise\u001b[0m \u001b[0mValueError\u001b[0m\u001b[1;33m(\u001b[0m\u001b[1;34m'expected square matrix'\u001b[0m\u001b[1;33m)\u001b[0m\u001b[1;33m\u001b[0m\u001b[0m\n\u001b[0m\u001b[0;32m    877\u001b[0m     \u001b[0moverwrite_a\u001b[0m \u001b[1;33m=\u001b[0m \u001b[0moverwrite_a\u001b[0m \u001b[1;32mor\u001b[0m \u001b[0m_datacopied\u001b[0m\u001b[1;33m(\u001b[0m\u001b[0ma1\u001b[0m\u001b[1;33m,\u001b[0m \u001b[0ma\u001b[0m\u001b[1;33m)\u001b[0m\u001b[1;33m\u001b[0m\u001b[0m\n\u001b[0;32m    878\u001b[0m     \u001b[0mfdet\u001b[0m\u001b[1;33m,\u001b[0m \u001b[1;33m=\u001b[0m \u001b[0mget_flinalg_funcs\u001b[0m\u001b[1;33m(\u001b[0m\u001b[1;33m(\u001b[0m\u001b[1;34m'det'\u001b[0m\u001b[1;33m,\u001b[0m\u001b[1;33m)\u001b[0m\u001b[1;33m,\u001b[0m \u001b[1;33m(\u001b[0m\u001b[0ma1\u001b[0m\u001b[1;33m,\u001b[0m\u001b[1;33m)\u001b[0m\u001b[1;33m)\u001b[0m\u001b[1;33m\u001b[0m\u001b[0m\n",
      "\u001b[1;31mValueError\u001b[0m: expected square matrix"
     ]
    }
   ],
   "source": [
    "print(linalg.det(np.ones((3,4)))) #det. is allowed only for Square MAtrix \n"
   ]
  },
  {
   "cell_type": "code",
   "execution_count": 23,
   "metadata": {},
   "outputs": [
    {
     "name": "stdout",
     "output_type": "stream",
     "text": [
      "[[-2.   1. ]\n",
      " [ 1.5 -0.5]]\n"
     ]
    }
   ],
   "source": [
    "################ scipy.linalg.inv() ###################################\n",
    "arr=np.array([[1,2],[3,4]])\n",
    "iarr=linalg.inv(arr)\n",
    "print(iarr)"
   ]
  },
  {
   "cell_type": "code",
   "execution_count": 24,
   "metadata": {},
   "outputs": [
    {
     "name": "stdout",
     "output_type": "stream",
     "text": [
      "True\n"
     ]
    }
   ],
   "source": [
    "# Dot product of matrix with its Inverse is identity Matrix \n",
    "\n",
    "print(np.allclose(np.dot(arr,iarr),np.eye(2)))"
   ]
  },
  {
   "cell_type": "code",
   "execution_count": 25,
   "metadata": {},
   "outputs": [
    {
     "ename": "LinAlgError",
     "evalue": "singular matrix",
     "output_type": "error",
     "traceback": [
      "\u001b[1;31m---------------------------------------------------------------------------\u001b[0m",
      "\u001b[1;31mLinAlgError\u001b[0m                               Traceback (most recent call last)",
      "\u001b[1;32m<ipython-input-25-c7e475efe28d>\u001b[0m in \u001b[0;36m<module>\u001b[1;34m()\u001b[0m\n\u001b[0;32m      1\u001b[0m \u001b[0marr\u001b[0m\u001b[1;33m=\u001b[0m\u001b[0mnp\u001b[0m\u001b[1;33m.\u001b[0m\u001b[0marray\u001b[0m\u001b[1;33m(\u001b[0m\u001b[1;33m[\u001b[0m\u001b[1;33m[\u001b[0m\u001b[1;36m3\u001b[0m\u001b[1;33m,\u001b[0m\u001b[1;36m2\u001b[0m\u001b[1;33m]\u001b[0m\u001b[1;33m,\u001b[0m\u001b[1;33m[\u001b[0m\u001b[1;36m6\u001b[0m\u001b[1;33m,\u001b[0m\u001b[1;36m4\u001b[0m\u001b[1;33m]\u001b[0m\u001b[1;33m]\u001b[0m\u001b[1;33m)\u001b[0m\u001b[1;33m\u001b[0m\u001b[0m\n\u001b[1;32m----> 2\u001b[1;33m \u001b[0mprint\u001b[0m\u001b[1;33m(\u001b[0m\u001b[0mlinalg\u001b[0m\u001b[1;33m.\u001b[0m\u001b[0minv\u001b[0m\u001b[1;33m(\u001b[0m\u001b[0marr\u001b[0m\u001b[1;33m)\u001b[0m\u001b[1;33m)\u001b[0m\u001b[1;33m\u001b[0m\u001b[0m\n\u001b[0m",
      "\u001b[1;32mC:\\ProgramData\\Anaconda3\\lib\\site-packages\\scipy\\linalg\\basic.py\u001b[0m in \u001b[0;36minv\u001b[1;34m(a, overwrite_a, check_finite)\u001b[0m\n\u001b[0;32m    817\u001b[0m         \u001b[0minv_a\u001b[0m\u001b[1;33m,\u001b[0m \u001b[0minfo\u001b[0m \u001b[1;33m=\u001b[0m \u001b[0mgetri\u001b[0m\u001b[1;33m(\u001b[0m\u001b[0mlu\u001b[0m\u001b[1;33m,\u001b[0m \u001b[0mpiv\u001b[0m\u001b[1;33m,\u001b[0m \u001b[0mlwork\u001b[0m\u001b[1;33m=\u001b[0m\u001b[0mlwork\u001b[0m\u001b[1;33m,\u001b[0m \u001b[0moverwrite_lu\u001b[0m\u001b[1;33m=\u001b[0m\u001b[1;36m1\u001b[0m\u001b[1;33m)\u001b[0m\u001b[1;33m\u001b[0m\u001b[0m\n\u001b[0;32m    818\u001b[0m     \u001b[1;32mif\u001b[0m \u001b[0minfo\u001b[0m \u001b[1;33m>\u001b[0m \u001b[1;36m0\u001b[0m\u001b[1;33m:\u001b[0m\u001b[1;33m\u001b[0m\u001b[0m\n\u001b[1;32m--> 819\u001b[1;33m         \u001b[1;32mraise\u001b[0m \u001b[0mLinAlgError\u001b[0m\u001b[1;33m(\u001b[0m\u001b[1;34m\"singular matrix\"\u001b[0m\u001b[1;33m)\u001b[0m\u001b[1;33m\u001b[0m\u001b[0m\n\u001b[0m\u001b[0;32m    820\u001b[0m     \u001b[1;32mif\u001b[0m \u001b[0minfo\u001b[0m \u001b[1;33m<\u001b[0m \u001b[1;36m0\u001b[0m\u001b[1;33m:\u001b[0m\u001b[1;33m\u001b[0m\u001b[0m\n\u001b[0;32m    821\u001b[0m         raise ValueError('illegal value in %d-th argument of internal '\n",
      "\u001b[1;31mLinAlgError\u001b[0m: singular matrix"
     ]
    }
   ],
   "source": [
    "arr=np.array([[3,2],[6,4]])\n",
    "print(linalg.inv(arr))"
   ]
  },
  {
   "cell_type": "markdown",
   "metadata": {},
   "source": [
    "# Statastics"
   ]
  },
  {
   "cell_type": "code",
   "execution_count": 28,
   "metadata": {},
   "outputs": [
    {
     "name": "stdout",
     "output_type": "stream",
     "text": [
      "[  8.95877275e-01   7.60018170e-01  -1.34962474e+00   1.39389122e+00\n",
      "  -1.07722661e+00  -7.52436483e-01   2.06403009e-01   1.47183005e+00\n",
      "   3.35763604e-01   3.02233722e-01  -5.82653254e-01  -1.40598125e+00\n",
      "  -1.40884353e+00  -1.04239427e+00   1.06300997e-01  -9.29889866e-01\n",
      "   6.56262874e-01   1.86266935e+00  -4.37873032e-01   1.02210266e+00\n",
      "   3.42292798e-01  -7.46209233e-01   6.58557697e-01   1.50766155e+00\n",
      "   1.77827535e+00   1.53260673e+00   8.91019969e-01  -2.50869149e-01\n",
      "   8.24561494e-01  -1.38663238e+00   1.78497631e+00   1.19513293e-01\n",
      "  -7.99205574e-01   5.15652761e-01   1.79769931e+00  -2.13382618e-01\n",
      "  -2.40104288e+00   4.80703566e-02   2.78029569e-01   1.83632361e-02\n",
      "   2.50111008e-01  -1.17761817e+00   2.00328745e+00   1.48004540e-01\n",
      "  -4.14672309e-01  -6.16318055e-01  -6.04194212e-01  -3.71904701e-01\n",
      "   5.75953298e-01   4.57434881e-01   2.54801940e-01  -1.21707080e+00\n",
      "  -8.57525639e-01  -2.23544061e+00   1.51843214e+00  -1.09646206e+00\n",
      "   8.89342007e-01  -2.06088726e-01   1.18439033e+00   7.19118593e-01\n",
      "   5.04100836e-01  -1.62800680e+00   6.69414404e-01   2.95620650e-01\n",
      "   9.50999749e-01   8.49379675e-01  -3.48715757e-01   3.07288912e-01\n",
      "   1.17672801e-01   2.06046301e-01  -2.92757328e+00  -4.96232554e-01\n",
      "  -4.41669880e-01   1.03182088e+00  -1.37428111e+00   1.52900150e+00\n",
      "   1.27282641e+00  -7.88555637e-01   1.15786934e+00   3.11370716e-01\n",
      "  -1.40661853e+00   5.36161483e-01  -3.27532800e-01   1.69847304e-01\n",
      "  -1.18507967e+00   1.66338028e+00  -1.30452479e-01   8.07357403e-02\n",
      "   1.29290707e+00   1.76153679e-02   5.28208265e-01   1.77319197e-01\n",
      "  -1.06027321e+00   4.58291444e-01  -8.55700596e-01  -1.31124811e+00\n",
      "  -2.55382963e+00  -6.38468874e-01  -1.23178638e+00  -6.44378171e-01\n",
      "  -2.33712996e-01   1.63697865e+00  -1.03791779e+00   4.38287594e-01\n",
      "  -2.34342694e-01   1.25104581e+00   1.38317008e+00   2.00168195e-01\n",
      "   1.03872180e+00   1.38496240e+00   1.94964534e+00  -1.52729190e+00\n",
      "   1.02194853e+00  -4.72030482e-01  -1.79051873e+00  -2.96145908e-01\n",
      "   4.25454868e-01   1.52301851e-01   2.36888552e-01  -1.30803801e+00\n",
      "   1.19946777e+00  -9.72229959e-01   9.41453608e-02   5.45421365e-01\n",
      "  -2.31011431e-01  -2.32654133e+00  -1.27271592e+00  -6.75174763e-02\n",
      "  -2.47079853e-01   1.12835831e-01   3.93441332e-02  -1.38893591e+00\n",
      "  -1.40541164e+00  -1.45875296e+00  -1.05509026e+00   1.11280063e+00\n",
      "   2.92627163e+00  -7.87475654e-01  -6.24026757e-01  -8.23104893e-01\n",
      "  -2.76849815e-01   2.54530924e-01   1.35913764e+00   1.89181720e+00\n",
      "  -6.15989356e-01  -7.43243811e-01  -1.25331904e+00   2.17367267e+00\n",
      "   5.84660579e-01  -2.42355629e+00   1.09413961e+00   4.26166310e-01\n",
      "   7.22097814e-01  -1.99412920e-01  -8.01154225e-01   3.02432512e-02\n",
      "  -4.42832970e-01  -6.55056675e-01  -6.23154543e-01   6.21281983e-01\n",
      "   1.34198342e+00   1.78985148e-01   2.34426487e-01   7.70031983e-01\n",
      "  -1.11675724e-01  -3.33649676e-01   7.50649611e-01   1.56074313e+00\n",
      "  -1.50623050e+00  -3.49214645e-01  -1.15797726e-01   5.65547000e-01\n",
      "  -4.87573361e-01  -1.00761703e+00   4.15011523e-01  -1.44094490e+00\n",
      "  -4.22883662e-02  -1.55489289e+00   1.85434506e-01   1.90050023e+00\n",
      "   1.65643862e+00   1.99314885e-01  -6.91789645e-01   1.01833812e+00\n",
      "  -3.95726334e-03  -7.47074809e-01  -2.29639367e+00   5.94176123e-01\n",
      "   2.05622497e-01  -1.97235712e-01   1.45604978e+00   1.10432561e+00\n",
      "   1.63606404e-01   6.47913409e-01  -6.83420756e-01  -2.87485634e-01\n",
      "  -3.88310752e-01   6.04470761e-01   7.37198059e-01  -1.10108997e+00\n",
      "  -1.65413890e+00  -3.95974786e-01  -6.32338279e-01  -3.27011416e-01\n",
      "   5.42454528e-01   1.78095190e+00  -1.79853793e+00  -1.17730649e+00\n",
      "   9.31972315e-01   2.18701690e-01   1.17162042e+00   3.56557388e-01\n",
      "  -1.60426163e+00   1.23678496e-01  -3.89859546e-01   2.72118498e-01\n",
      "   5.37386642e-02  -5.09602336e-01   5.43397773e-01  -7.02333890e-01\n",
      "  -1.77605251e-01   7.18012529e-01   7.89389926e-02  -6.51059404e-01\n",
      "   5.00873988e-01   6.86995632e-01  -8.47142390e-01  -1.04413817e+00\n",
      "  -2.61480237e+00   1.90155256e+00   8.24933652e-01   9.41711952e-01\n",
      "  -1.02623483e-01  -1.76098946e+00   1.45463896e+00   1.06060259e+00\n",
      "   3.00805684e-01   6.04029014e-01   8.05062362e-01   1.09972682e+00\n",
      "  -1.86393895e-02  -8.88317287e-01   4.59271311e-01  -1.67539806e-01\n",
      "  -1.37212183e+00   2.81254064e-01   4.77425523e-01   2.63989429e-01\n",
      "   3.34499289e-01   3.81318410e-01   3.07284876e-02   3.26924372e-01\n",
      "   1.39870721e+00  -9.68434607e-01   5.15424024e-01   7.59144153e-01\n",
      "  -6.05669555e-01   1.10042468e+00  -3.01640356e-01   6.95024293e-02\n",
      "   2.20296375e+00  -1.83092634e+00  -4.87336908e-01   3.17296855e-01\n",
      "  -1.02678831e+00  -4.67034215e-01   7.57268130e-01   2.33694742e-01\n",
      "  -1.00113189e+00  -1.96814765e+00   1.09404593e+00  -9.26418649e-02\n",
      "  -1.26718186e+00  -6.12972173e-01   2.15963595e-01  -9.71533877e-01\n",
      "   8.54712298e-01  -2.08443160e+00   8.05035541e-01   4.46246376e-01\n",
      "  -3.29343413e-01   2.79915462e-02  -1.51513409e+00   5.85284451e-01\n",
      "   7.22006775e-02  -2.58158595e-01   4.47934892e-01  -9.51642874e-01\n",
      "  -1.46538746e+00   5.98768387e-01  -1.81516290e-01  -1.44791097e-01\n",
      "   1.24359580e+00   3.65734242e-01   3.12463517e-01  -1.36434788e+00\n",
      "   3.30451198e-01  -2.11519345e-01   7.58444200e-01   1.15605427e+00\n",
      "   3.45467334e-01   4.75925133e-01   1.46576914e-01  -1.65918974e-01\n",
      "  -1.98427706e+00  -5.52763600e-01   6.36261948e-01  -1.31104914e+00\n",
      "   1.28648630e+00  -2.21417720e-01  -4.28849251e-02  -2.88412126e-02\n",
      "   7.41710335e-01  -5.31115626e-01  -1.03070810e+00  -1.60347470e+00\n",
      "  -1.34147180e+00  -5.47373984e-01  -1.78407342e-01   4.78811946e-01\n",
      "   6.10554445e-01  -1.15953171e+00  -5.51664604e-01   6.70706843e-01\n",
      "  -7.71163839e-03   1.49782451e+00   1.00415879e+00   1.89744961e+00\n",
      "  -1.41844489e-01   9.38160595e-01  -1.27506239e+00  -1.01933620e+00\n",
      "   3.83657594e-01  -5.41236361e-02  -9.41279231e-01   2.26895535e+00\n",
      "   4.12027566e-01   1.69865906e+00   8.54843459e-01   2.16267253e-01\n",
      "  -1.95896893e-01   2.04587049e+00   1.05052019e+00   1.62416109e+00\n",
      "  -1.49396429e-01   8.88423611e-01   3.88080517e-01  -5.77157734e-01\n",
      "   1.14226928e+00  -1.96561905e-01   7.30279100e-01   7.50385827e-01\n",
      "  -1.53419962e+00  -1.60024176e-02   4.71137639e-01  -3.86722655e-01\n",
      "  -8.95456370e-01   2.34830759e-01   1.16276855e+00   1.03689758e+00\n",
      "   7.91435376e-01  -1.15917691e+00  -3.64578528e-01  -1.45373802e+00\n",
      "  -9.50157002e-01  -6.69677654e-01  -2.26560442e-01   6.37477581e-02\n",
      "   2.74141447e-01   2.91879587e-01   4.16101947e-01  -1.56655680e+00\n",
      "  -2.29818880e+00   1.26147725e-01  -1.09209281e-03   2.03892259e-01\n",
      "   2.42796937e+00  -9.53524906e-01  -8.18482854e-01   1.14979120e+00\n",
      "  -2.48707798e-01  -1.98855292e-01  -4.36451736e-01   2.25081472e+00\n",
      "  -1.22643183e+00  -1.38936847e+00   3.23468964e-01   8.32310815e-02\n",
      "   8.53421627e-01  -1.53115146e-01  -7.38881820e-01   3.23237488e-01\n",
      "  -2.87283596e-01   8.91893769e-01   4.39717007e-02  -4.75161374e-01\n",
      "  -1.91393934e+00  -1.28335746e+00   6.49068678e-01   1.69533419e+00\n",
      "   1.16526880e+00   8.86851134e-02   1.55440662e+00   1.61153924e+00\n",
      "   6.33232657e-01  -5.57473898e-01  -9.16985647e-01   8.87440596e-01\n",
      "   3.23024295e-01   6.90902031e-01  -3.33751317e-01   3.15419825e-01\n",
      "  -3.03635355e-01  -1.73477168e+00   1.09142556e-01  -1.15651958e+00\n",
      "  -9.71636007e-01  -7.71674497e-01   7.32106122e-01   1.43511776e+00\n",
      "  -9.21790227e-01  -1.34166672e+00  -4.53822203e-02   7.07183780e-01\n",
      "   1.44563359e+00   1.72186923e-01   2.30241849e-01   1.27642863e-01\n",
      "   9.22836326e-01  -3.85940190e-01   8.39248007e-02  -1.67125657e+00\n",
      "   1.87661410e+00  -1.07859829e-01  -1.11788681e+00   8.20875988e-02\n",
      "   2.61592015e-01   1.73574657e-01   5.47768015e-01  -1.42929181e+00\n",
      "   3.25453127e-01   3.14593095e-01   1.88897269e+00  -1.32378555e+00\n",
      "   1.07772101e+00   3.00022147e-01   1.55063481e+00  -5.94693456e-01\n",
      "  -1.29856694e+00  -1.21965788e-01  -3.76566492e-01   3.82776883e-01\n",
      "  -1.29514127e+00  -2.99953368e-01   1.64851535e+00  -6.45486723e-01\n",
      "  -1.40482700e-01   8.53107230e-01   8.12200852e-01  -2.51653453e-01\n",
      "   2.67353092e-01  -3.86027270e-01   3.77401747e-01  -4.70826501e-01\n",
      "  -1.90608958e+00   4.63294051e-02  -1.56766420e+00  -9.37801694e-01\n",
      "   1.26746624e+00   4.71851194e-01  -2.93774443e-01   7.26422923e-02\n",
      "  -1.06715475e+00   1.07272097e+00  -1.19281060e+00  -5.33245468e-01\n",
      "   1.88233803e+00   8.83154748e-01   5.41114314e-01  -1.47002713e+00\n",
      "   1.60978328e-01  -1.15514148e+00  -1.29146992e-01  -7.26182223e-01\n",
      "   4.70437257e-01  -2.45206756e-01   6.60434851e-01  -1.42593955e+00\n",
      "  -5.04858276e-01   1.52273153e-01  -2.36825558e-01  -9.71400994e-01\n",
      "  -1.20874823e+00  -1.95366308e-01   8.28568401e-01  -1.88504872e-01\n",
      "  -1.61676204e-01   4.85315560e-01  -2.90021310e-01  -9.33182585e-01\n",
      "  -1.26269178e+00  -8.11891854e-02  -6.79991465e-01   2.08640413e+00\n",
      "  -9.64602782e-01  -3.34914740e-01  -4.92787843e-01  -1.01802497e+00\n",
      "  -1.10572747e+00  -2.27400392e+00  -1.52012061e+00   1.09617545e-01\n",
      "  -2.32215397e+00  -2.18590759e+00   1.10602027e+00  -4.82511191e-01\n",
      "   8.74042569e-01   3.28527437e+00   1.19006052e+00  -2.27077020e+00\n",
      "   5.78708332e-01   1.01150312e+00   1.90103788e+00  -2.12002272e+00\n",
      "   2.30015649e-01  -1.53331412e+00   5.53090665e-01   1.42133319e+00\n",
      "   1.74628689e+00  -5.69140452e-01   2.64265150e-02   1.58627564e-01\n",
      "  -1.06159767e+00  -1.22572349e+00   5.13449060e-01   4.00318726e-01\n",
      "   2.53015301e+00  -2.41569906e-01   8.70699042e-01   2.78158248e+00\n",
      "  -5.10787413e-01  -3.77703228e-01   1.34500846e+00   1.18251839e+00\n",
      "  -6.63504593e-01   4.57266905e-01  -5.09968496e-01   2.80952716e-01\n",
      "  -5.63649646e-01  -1.22742460e+00  -3.92335727e-01  -8.16857082e-01\n",
      "  -2.30401456e-01  -3.91858648e-01   4.62199418e-03   4.38379477e-01\n",
      "   6.75039972e-01   3.18888010e-01  -3.65768625e-02   7.59687495e-01\n",
      "   5.24628489e-01  -1.62849408e+00   3.51612261e-01  -1.13703144e+00\n",
      "   1.08054577e+00   9.73417970e-01   1.39053532e-01  -3.56544069e-01\n",
      "  -7.79193600e-01  -1.84200521e-01  -1.04149631e+00  -6.82989524e-01\n",
      "   1.08663242e+00   6.38902900e-02   2.94468980e-02  -7.11154192e-01\n",
      "   5.43039946e-01  -1.11835569e+00   9.44568829e-01  -8.65632179e-02\n",
      "  -1.85610655e+00   5.73160355e-01  -2.63292366e-01   4.29484199e-02\n",
      "   1.90000862e+00   5.49992729e-01  -1.05276148e+00  -1.40518818e-02\n",
      "  -4.72008486e-01   7.03363987e-01   8.73126390e-01  -2.27612346e-01\n",
      "  -8.40749173e-01   1.19992087e+00   8.94387477e-01  -1.24401415e+00\n",
      "  -1.33875009e+00  -2.00035114e-01  -7.13649809e-01  -1.90712667e-01\n",
      "   7.68812436e-01  -1.78461071e+00  -1.41727764e+00   5.73622112e-01\n",
      "   1.76583234e+00  -3.45989904e-01  -6.55138141e-01   7.09790133e-01\n",
      "   1.44566277e-02   9.04413929e-01  -2.77239504e+00  -7.32455659e-03\n",
      "  -2.16956865e-02   1.98192358e-01   1.16811481e+00  -6.40554085e-01\n",
      "   1.93797145e-01  -1.30873609e+00  -3.67470071e-01   3.69262144e-01\n",
      "   7.92167344e-01  -1.11459818e-01   1.12260173e+00   9.63837522e-01\n",
      "  -1.07783141e-01  -1.85558020e+00  -1.05066391e+00   2.42350389e+00\n",
      "  -5.15294266e-01  -2.18612787e+00   8.02957846e-01  -1.06760633e+00\n",
      "   5.07787229e-01   9.34257024e-01   1.39779259e+00   4.39041414e-01\n",
      "  -3.57245815e-01  -1.25826048e+00   1.59043860e+00   4.31071240e-01\n",
      "   7.32898640e-01   2.26189670e+00  -1.97570285e+00   9.87324953e-02\n",
      "  -1.55214058e+00  -1.59311478e+00  -1.18808506e+00  -1.73625936e+00\n",
      "   7.39750516e-01  -1.69017574e-01   8.73300276e-01  -1.26384433e+00\n",
      "   9.78502277e-01  -1.34807521e+00  -3.04922777e-01   9.57785144e-01\n",
      "  -8.30098085e-01  -1.65569620e-01  -2.74573324e-01  -1.24551961e+00\n",
      "   8.58518201e-01  -1.31994577e+00  -1.21748160e+00  -7.75434719e-01\n",
      "   1.02738070e-01   1.19265127e-01  -1.34241933e+00  -1.05502151e+00\n",
      "   2.46634114e-01   1.26525001e-01   4.09719152e-02   1.32416642e+00\n",
      "   1.37269720e+00   7.67420068e-01  -5.49642110e-01   3.67012708e-01\n",
      "   6.81158996e-01  -3.37539613e-02   5.26839527e-01  -1.05006560e+00\n",
      "  -3.84965695e-01  -1.05175191e+00   1.67990061e-01   3.08112435e-02\n",
      "   1.06883484e+00  -3.41724074e-01  -1.51081499e-01   1.24490121e+00\n",
      "  -4.39773634e-01   1.09093302e+00  -5.11356683e-01   7.36184616e-01\n",
      "   3.78606954e-01   3.05119351e-01   1.52157841e+00   5.15080072e-01\n",
      "  -1.30792205e-01  -4.17958906e-01  -1.06332292e+00  -1.21061770e+00\n",
      "  -6.59721239e-01   3.04018255e-01  -2.36520685e-01   7.23405610e-01\n",
      "  -5.29724598e-01  -4.24858851e-01   2.22851297e+00  -2.36512475e-01\n",
      "   2.55986316e-02  -9.11555942e-01   2.10127297e+00  -1.15838991e+00\n",
      "   1.12174308e+00  -8.51512970e-01   9.99580868e-01  -9.53376507e-01\n",
      "  -4.28729975e-02   1.56342399e+00  -7.44996378e-01  -2.13035699e-01\n",
      "   1.26376234e+00   4.01518238e-01   4.01474231e-01   1.54864083e+00\n",
      "   4.83575980e-02   2.64385604e-01  -8.47719657e-01   5.65481844e-01\n",
      "  -1.47937343e+00  -7.63509705e-01   1.36677229e+00  -2.22322553e+00\n",
      "   9.40313488e-01  -1.37537787e+00   3.32329614e-01   1.40126851e-02\n",
      "   1.54845884e-01   8.49250958e-01   1.70102427e-01  -1.65126742e+00\n",
      "   1.14328985e-03  -1.32000481e+00   1.67006966e+00   1.26516529e-01\n",
      "   3.37146897e-01   2.90507834e-01   2.70300009e-01   1.04599335e+00\n",
      "   3.04612666e-01  -6.40596844e-01   7.59462145e-01   7.87272932e-01\n",
      "  -2.36411961e-01  -4.21222941e-01  -7.69750684e-02  -2.32889147e-01\n",
      "  -2.33407584e-01   8.90924047e-01   1.29878893e+00  -6.77683360e-02\n",
      "   9.39441965e-01  -3.95190436e-02  -1.47218866e-01   9.43838665e-01\n",
      "  -2.17149581e-01  -1.05585970e+00  -9.07560906e-01   3.15125435e-01\n",
      "   1.17524865e+00   1.31587862e+00  -6.66170706e-01   1.43770425e+00\n",
      "   2.82301544e-01   6.31336866e-01   2.05933291e+00  -2.51844848e-01\n",
      "   9.38814483e-01  -2.66177595e+00  -9.36792752e-02   7.13825170e-01\n",
      "   3.07496927e-01  -9.64410936e-01  -1.02616667e+00   6.06876583e-01\n",
      "   2.05857749e+00  -3.17141368e+00   1.14961848e-01  -1.05736567e+00\n",
      "   2.45834396e-01   1.24424867e+00  -2.84940438e-01  -6.47874687e-02\n",
      "  -1.20856705e-01   1.25543620e+00  -2.22194801e-01  -4.62184986e-01\n",
      "   1.23488440e+00  -3.92085747e-01  -1.06782620e+00   5.62120603e-01\n",
      "   8.23793849e-01  -1.15945706e-02   7.49207719e-01  -7.47327039e-01\n",
      "   3.15832876e-01   2.40455430e-01   1.62549858e+00  -9.94204659e-01\n",
      "  -1.69263411e+00   1.48728383e+00   2.83464388e-02   2.46427500e-01\n",
      "   8.84134776e-01  -2.10637550e+00  -8.22859594e-01  -7.00420241e-01\n",
      "  -1.52799376e+00   2.76313733e-03   4.14017850e-01  -7.98945873e-01\n",
      "   9.24939811e-01   2.67871666e-01   8.24936872e-02   4.01872101e-01\n",
      "  -1.10234906e+00   2.62902223e-01   6.29472726e-01   1.69423471e-01\n",
      "   1.20078543e+00  -3.21418670e-02  -6.40090332e-01  -1.34079996e+00\n",
      "   4.68867056e-01  -8.38100741e-01  -4.87976108e-01  -9.88923788e-02\n",
      "  -9.04111266e-01   1.04763024e-01   4.95914976e-01  -1.99970564e+00\n",
      "   1.75294647e+00  -1.27053111e+00   7.47599844e-01  -2.16062390e-01\n",
      "  -2.54715867e-01   8.27466947e-01   2.69883952e-01   7.99648486e-01\n",
      "  -1.23444878e+00  -7.35216488e-01  -1.89874348e+00  -6.72627100e-01\n",
      "   2.50650669e-01  -4.25028321e-01  -8.54298216e-01   4.94945310e-01\n",
      "  -6.21496034e-03   1.49896639e+00  -9.83398554e-01   4.86499436e-01\n",
      "  -4.15903371e-01   1.10564514e+00  -1.21675041e+00   5.34322055e-01\n",
      "  -5.05833360e-01   9.38979388e-01   2.82440430e+00   1.70754985e-01\n",
      "   4.99113015e-01   6.11349086e-01  -1.87087047e-01  -3.10353898e-01\n",
      "  -5.67992043e-01   3.00930645e-01   1.11813379e+00  -7.51679892e-01\n",
      "   5.47397320e-01   3.56563632e-01  -1.39294683e-01  -1.76104045e+00\n",
      "  -7.85176764e-01  -1.03655906e+00   4.22999635e-01   4.40621138e-01\n",
      "  -3.49210406e-01  -6.22103247e-01  -1.16321071e-01  -1.53009347e+00\n",
      "  -1.87116351e+00   2.20110510e+00  -9.06641728e-01  -1.62201504e+00\n",
      "  -8.47581804e-01  -1.02388794e-01  -1.21824965e+00   1.70132653e+00\n",
      "   2.05139701e+00  -1.01335893e+00   1.46672258e+00  -3.07106393e-01\n",
      "   1.19355673e+00  -2.73053287e-01   1.50129101e+00   4.10499484e-01\n",
      "   6.31210944e-01   3.42024842e-01   1.52146273e+00  -6.14097761e-01\n",
      "   6.70256857e-01  -8.72413916e-01   2.18171052e-01  -7.63577782e-01\n",
      "  -2.86305710e-01   8.13725206e-01   1.03560402e-01   7.68418048e-01\n",
      "   9.02079396e-01  -7.46424329e-01  -1.91829396e-01  -7.27000222e-01\n",
      "   8.83745461e-01   7.87314774e-01   1.84306615e-01  -1.10253454e+00\n",
      "  -2.57048460e-01   7.44182218e-01   3.21879302e-01  -4.61315568e-01\n",
      "  -1.95511734e-01  -2.02163283e+00  -1.08357810e-01  -1.24652659e+00\n",
      "  -1.12090732e+00  -1.11256991e-01  -9.73467088e-01   1.23381122e+00\n",
      "  -1.85823035e-01  -9.13086932e-01   6.02677438e-01   2.14776308e-01\n",
      "   2.54580646e-02  -8.46701503e-01   5.94024457e-01  -1.38958019e-01\n",
      "  -8.12875360e-01   2.03654637e+00   1.21897342e+00  -4.25819927e-01\n",
      "   9.00970392e-01   5.68898966e-01  -5.67852178e-01  -5.08645126e-01\n",
      "   1.15871818e+00  -2.32205446e+00   2.85162601e-01   1.43205623e-01\n",
      "  -1.21730910e+00  -1.30982525e+00  -1.68016006e-01  -1.05797518e+00\n",
      "   2.60226286e-01  -1.94322192e+00  -9.52002923e-01   3.93778390e-02\n",
      "   1.26695774e+00   1.31414927e+00  -3.34861993e-01  -5.33789872e-01\n",
      "   8.20306369e-02  -1.79739676e-01   1.94911946e+00  -5.18053595e-01\n",
      "  -1.73703598e+00   2.68417727e-01  -1.29101718e+00  -1.16558487e+00\n",
      "  -3.78635547e-01   8.58788175e-01   1.14026666e-01   1.02446877e+00\n",
      "  -2.14156381e+00  -9.42341392e-01   1.96014033e-01   9.77711595e-01\n",
      "  -9.72602090e-01  -3.22115228e-01  -4.16291545e-01  -1.00803357e+00\n",
      "   1.63160021e+00  -8.56247399e-01  -1.72884785e-01   1.76139734e-01\n",
      "  -5.74562610e-01   2.50872567e+00   1.12081691e+00   8.01959073e-01\n",
      "  -1.80716261e+00  -8.00181619e-01   7.09434748e-01  -1.68206987e+00]\n",
      "[-4 -3 -2 -1  0  1  2  3  4]\n"
     ]
    }
   ],
   "source": [
    "a=np.random.normal(size=1000)\n",
    "bins=np.arange(-4,5)\n",
    "print(a)\n",
    "print(bins)"
   ]
  },
  {
   "cell_type": "code",
   "execution_count": 29,
   "metadata": {},
   "outputs": [
    {
     "name": "stdout",
     "output_type": "stream",
     "text": [
      "(array([ 0.001,  0.023,  0.156,  0.312,  0.355,  0.13 ,  0.022,  0.001]), array([-4, -3, -2, -1,  0,  1,  2,  3,  4]))\n"
     ]
    }
   ],
   "source": [
    "print(np.histogram(a,bins=bins, density=True))"
   ]
  },
  {
   "cell_type": "code",
   "execution_count": 30,
   "metadata": {
    "collapsed": true
   },
   "outputs": [],
   "source": [
    "histogram=np.histogram(a,bins=bins, density=True)[0]"
   ]
  },
  {
   "cell_type": "code",
   "execution_count": 31,
   "metadata": {},
   "outputs": [
    {
     "name": "stdout",
     "output_type": "stream",
     "text": [
      "[-3.5 -2.5 -1.5 -0.5  0.5  1.5  2.5  3.5]\n"
     ]
    }
   ],
   "source": [
    "bins=0.5*(bins[1:]+bins[:-1])\n",
    "print(bins)"
   ]
  },
  {
   "cell_type": "code",
   "execution_count": 32,
   "metadata": {},
   "outputs": [
    {
     "data": {
      "image/png": "[encoded data removed]",
      "text/plain": [
       "<matplotlib.figure.Figure at 0x1f023a4bf60>"
      ]
     },
     "metadata": {},
     "output_type": "display_data"
    }
   ],
   "source": [
    "from scipy import stats\n",
    "b=stats.norm.pdf(bins)  #norm is a distribution \n",
    "\n",
    "plt.plot(bins, histogram, label='From NumPy')\n",
    "plt.plot(bins, b, label='From SciPy')\n",
    "plt.legend()\n",
    "plt.show()"
   ]
  },
  {
   "cell_type": "code",
   "execution_count": 33,
   "metadata": {},
   "outputs": [
    {
     "name": "stdout",
     "output_type": "stream",
     "text": [
      "0.0255283480862\n",
      "0.0255283480862\n",
      "1.24551566918\n"
     ]
    }
   ],
   "source": [
    "###########################################  Percentiles ####################33333\n",
    "print(np.median(a))\n",
    "print(stats.scoreatpercentile(a,50))\n",
    "print(stats.scoreatpercentile(a,90))"
   ]
  },
  {
   "cell_type": "code",
   "execution_count": null,
   "metadata": {
    "collapsed": true
   },
   "outputs": [],
   "source": []
  },
  {
   "cell_type": "code",
   "execution_count": null,
   "metadata": {
    "collapsed": true
   },
   "outputs": [],
   "source": []
  },
  {
   "cell_type": "code",
   "execution_count": null,
   "metadata": {
    "collapsed": true
   },
   "outputs": [],
   "source": []
  },
  {
   "cell_type": "code",
   "execution_count": null,
   "metadata": {
    "collapsed": true
   },
   "outputs": [],
   "source": []
  },
  {
   "cell_type": "code",
   "execution_count": null,
   "metadata": {
    "collapsed": true
   },
   "outputs": [],
   "source": []
  },
  {
   "cell_type": "code",
   "execution_count": null,
   "metadata": {
    "collapsed": true
   },
   "outputs": [],
   "source": []
  },
  {
   "cell_type": "code",
   "execution_count": null,
   "metadata": {
    "collapsed": true
   },
   "outputs": [],
   "source": []
  }
 ],
 "metadata": {
  "kernelspec": {
   "display_name": "Python 3",
   "language": "python",
   "name": "python3"
  },
  "language_info": {
   "codemirror_mode": {
    "name": "ipython",
    "version": 3
   },
   "file_extension": ".py",
   "mimetype": "text/x-python",
   "name": "python",
   "nbconvert_exporter": "python",
   "pygments_lexer": "ipython3",
   "version": "3.6.3"
  }
 },
 "nbformat": 4,
 "nbformat_minor": 2
}
