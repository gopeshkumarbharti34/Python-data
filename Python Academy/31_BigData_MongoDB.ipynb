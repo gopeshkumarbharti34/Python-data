{
 "cells": [
  {
   "cell_type": "markdown",
   "metadata": {},
   "source": [
    "# MongoDB connection with Python"
   ]
  },
  {
   "cell_type": "code",
   "execution_count": 1,
   "metadata": {
    "collapsed": true
   },
   "outputs": [],
   "source": [
    "# conda install pymongo     -----> write this command on anaconda prompt to install PyMongo package in Python\n",
    "import pymongo"
   ]
  },
  {
   "cell_type": "code",
   "execution_count": 2,
   "metadata": {
    "collapsed": true
   },
   "outputs": [],
   "source": [
    "# connect to mongo\n",
    "connection=pymongo.MongoClient()"
   ]
  },
  {
   "cell_type": "code",
   "execution_count": 3,
   "metadata": {
    "collapsed": true
   },
   "outputs": [],
   "source": [
    "# get handle to the pizzas database it will create new if pizzas database is not already created\n",
    "mydb=connection.pizzas\n",
    "db_clients=mydb.clients"
   ]
  },
  {
   "cell_type": "code",
   "execution_count": 4,
   "metadata": {
    "collapsed": true
   },
   "outputs": [],
   "source": [
    "#Create new row to insert \n",
    "client_dict_one={\"name\":\"Sachin Tendulkar\",\"age\":40,\"job\":\"Sports\",\"email\":\"sachten@gmail.com\"}\n",
    "\n",
    "client_dict_many=[{\"name\":\"Muktinath Vishwakarma\",\"age\":29,\"job\":\"Teaching\",\"email\":\"muktinathv@gmail.com\"},{\"name\":\"Abhijeet Thakre\",\"age\":46,\"job\":\"Doctor\",\"email\":\"abhi@gmail.com\"}]\n"
   ]
  },
  {
   "cell_type": "code",
   "execution_count": 5,
   "metadata": {},
   "outputs": [
    {
     "data": {
      "text/plain": [
       "<pymongo.results.InsertOneResult at 0x2374d44ff08>"
      ]
     },
     "execution_count": 5,
     "metadata": {},
     "output_type": "execute_result"
    }
   ],
   "source": [
    "#insert in DB\n",
    "db_clients.insert_one(client_dict_one)"
   ]
  },
  {
   "cell_type": "code",
   "execution_count": 6,
   "metadata": {},
   "outputs": [
    {
     "data": {
      "text/plain": [
       "<pymongo.results.InsertManyResult at 0x2374d488d88>"
      ]
     },
     "execution_count": 6,
     "metadata": {},
     "output_type": "execute_result"
    }
   ],
   "source": [
    "db_clients.insert_many(client_dict_many)"
   ]
  },
  {
   "cell_type": "code",
   "execution_count": 8,
   "metadata": {},
   "outputs": [
    {
     "name": "stdout",
     "output_type": "stream",
     "text": [
      "Vishal Sathawane | 29.0 | Engineer | vhsathawane@gmail.com\n",
      "Roshan Joge | 27.0 | Engineer | roshanjoge@gmail.com\n",
      "Sachin Tendulkar | 40 | Sports | sachten@gmail.com\n",
      "Muktinath Vishwakarma | 29 | Teaching | muktinathv@gmail.com\n",
      "Abhijeet Thakre | 46 | Doctor | abhi@gmail.com\n"
     ]
    }
   ],
   "source": [
    "# select from collection\n",
    "records_all=db_clients.find()\n",
    "for record in records_all:\n",
    "    print(record[\"name\"],\"|\",record[\"age\"],\"|\",record[\"job\"],\"|\",record[\"email\"])"
   ]
  },
  {
   "cell_type": "code",
   "execution_count": 11,
   "metadata": {},
   "outputs": [
    {
     "name": "stdout",
     "output_type": "stream",
     "text": [
      "Muktinath Vishwakarma | 29 | Teaching | muktinathv@gmail.com\n"
     ]
    }
   ],
   "source": [
    "# select from collection with where clause \n",
    "records_all=db_clients.find({\"name\":\"Muktinath Vishwakarma\"})\n",
    "\n",
    "for record in records_all:\n",
    "    print(record[\"name\"],\"|\",record[\"age\"],\"|\",record[\"job\"],\"|\",record[\"email\"])"
   ]
  },
  {
   "cell_type": "code",
   "execution_count": 12,
   "metadata": {},
   "outputs": [
    {
     "data": {
      "text/plain": [
       "<pymongo.results.UpdateResult at 0x2374d4b8f48>"
      ]
     },
     "execution_count": 12,
     "metadata": {},
     "output_type": "execute_result"
    }
   ],
   "source": [
    "#update records \n",
    "db_clients.update_one({\"name\":\"Muktinath Vishwakarma\"},{\"$set\":{\"age\":\"22\"}})"
   ]
  },
  {
   "cell_type": "code",
   "execution_count": 13,
   "metadata": {
    "collapsed": true
   },
   "outputs": [],
   "source": [
    "# selection from collection with where clause \n",
    "records_all=db_clients.find({\"name\":\"Abhijeet Thakre\"})"
   ]
  },
  {
   "cell_type": "code",
   "execution_count": 14,
   "metadata": {},
   "outputs": [
    {
     "name": "stdout",
     "output_type": "stream",
     "text": [
      "Vishal Sathawane | 29.0 | Engineer | vhsathawane@gmail.com\n",
      "Roshan Joge | 27.0 | Engineer | roshanjoge@gmail.com\n",
      "Sachin Tendulkar | 40 | Sports | sachten@gmail.com\n",
      "Muktinath Vishwakarma | 22 | Teaching | muktinathv@gmail.com\n",
      "Abhijeet Thakre | 46 | Doctor | abhi@gmail.com\n"
     ]
    }
   ],
   "source": [
    "# select from collection\n",
    "records_all=db_clients.find()\n",
    "for record in records_all:\n",
    "    print(record[\"name\"],\"|\",record[\"age\"],\"|\",record[\"job\"],\"|\",record[\"email\"])"
   ]
  },
  {
   "cell_type": "code",
   "execution_count": 15,
   "metadata": {},
   "outputs": [
    {
     "data": {
      "text/plain": [
       "<pymongo.results.DeleteResult at 0x2374d465588>"
      ]
     },
     "execution_count": 15,
     "metadata": {},
     "output_type": "execute_result"
    }
   ],
   "source": [
    "#delete record \n",
    "db_clients.delete_one({\"name\":\"Abhijeet Thakre\"})"
   ]
  },
  {
   "cell_type": "code",
   "execution_count": 16,
   "metadata": {},
   "outputs": [
    {
     "name": "stdout",
     "output_type": "stream",
     "text": [
      "Vishal Sathawane | 29.0 | Engineer | vhsathawane@gmail.com\n",
      "Roshan Joge | 27.0 | Engineer | roshanjoge@gmail.com\n",
      "Sachin Tendulkar | 40 | Sports | sachten@gmail.com\n",
      "Muktinath Vishwakarma | 22 | Teaching | muktinathv@gmail.com\n"
     ]
    }
   ],
   "source": [
    "# select from collection\n",
    "records_all=db_clients.find()\n",
    "for record in records_all:\n",
    "    print(record[\"name\"],\"|\",record[\"age\"],\"|\",record[\"job\"],\"|\",record[\"email\"])"
   ]
  },
  {
   "cell_type": "code",
   "execution_count": null,
   "metadata": {
    "collapsed": true
   },
   "outputs": [],
   "source": []
  },
  {
   "cell_type": "code",
   "execution_count": null,
   "metadata": {
    "collapsed": true
   },
   "outputs": [],
   "source": []
  },
  {
   "cell_type": "code",
   "execution_count": null,
   "metadata": {
    "collapsed": true
   },
   "outputs": [],
   "source": []
  },
  {
   "cell_type": "code",
   "execution_count": null,
   "metadata": {
    "collapsed": true
   },
   "outputs": [],
   "source": []
  }
 ],
 "metadata": {
  "kernelspec": {
   "display_name": "Python 3",
   "language": "python",
   "name": "python3"
  },
  "language_info": {
   "codemirror_mode": {
    "name": "ipython",
    "version": 3
   },
   "file_extension": ".py",
   "mimetype": "text/x-python",
   "name": "python",
   "nbconvert_exporter": "python",
   "pygments_lexer": "ipython3",
   "version": "3.6.3"
  }
 },
 "nbformat": 4,
 "nbformat_minor": 2
}
