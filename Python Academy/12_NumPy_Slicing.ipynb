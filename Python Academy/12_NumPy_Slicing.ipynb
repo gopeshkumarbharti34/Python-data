{
 "cells": [
  {
   "cell_type": "code",
   "execution_count": 1,
   "metadata": {
    "collapsed": true
   },
   "outputs": [],
   "source": [
    "import numpy as np"
   ]
  },
  {
   "cell_type": "code",
   "execution_count": 2,
   "metadata": {},
   "outputs": [
    {
     "name": "stdout",
     "output_type": "stream",
     "text": [
      "[10 11 12 13 14 15 16 17 18 19 20]\n",
      "[12 14 16]\n"
     ]
    }
   ],
   "source": [
    "a=np.arange(10,21,1)\n",
    "s=slice(2,7,2)\n",
    "print(a)\n",
    "print(a[s])"
   ]
  },
  {
   "cell_type": "code",
   "execution_count": 3,
   "metadata": {},
   "outputs": [
    {
     "name": "stdout",
     "output_type": "stream",
     "text": [
      "[12 14 16]\n"
     ]
    }
   ],
   "source": [
    "b=a[2:7:2]\n",
    "print(b)"
   ]
  },
  {
   "cell_type": "code",
   "execution_count": 4,
   "metadata": {},
   "outputs": [
    {
     "name": "stdout",
     "output_type": "stream",
     "text": [
      "5\n",
      "[0 1 2 3 4 5 6 7 8 9]\n"
     ]
    }
   ],
   "source": [
    "# slice single item\n",
    "a=np.arange(10)\n",
    "b=a[5]\n",
    "print(b)\n",
    "print(a)"
   ]
  },
  {
   "cell_type": "code",
   "execution_count": 6,
   "metadata": {},
   "outputs": [
    {
     "name": "stdout",
     "output_type": "stream",
     "text": [
      "[2 3 4 5 6 7 8 9]\n"
     ]
    }
   ],
   "source": [
    "# slice items starting from index a=np.arange(10)\n",
    "print(a[2:])"
   ]
  },
  {
   "cell_type": "code",
   "execution_count": 7,
   "metadata": {},
   "outputs": [
    {
     "name": "stdout",
     "output_type": "stream",
     "text": [
      "[[1 2 3]\n",
      " [4 5 6]\n",
      " [7 8 9]]\n"
     ]
    }
   ],
   "source": [
    "a=np.array([[1,2,3],[4,5,6],[7,8,9]])\n",
    "print(a)"
   ]
  },
  {
   "cell_type": "code",
   "execution_count": 8,
   "metadata": {},
   "outputs": [
    {
     "name": "stdout",
     "output_type": "stream",
     "text": [
      "Now we will slice the array from the index a[1:]\n",
      "[[4 5 6]\n",
      " [7 8 9]]\n",
      "5\n",
      "[5 6]\n"
     ]
    }
   ],
   "source": [
    "# slice item starting from index\n",
    "print('Now we will slice the array from the index a[1:]')\n",
    "print(a[1:])\n",
    "print(a[1][1])\n",
    "print(a[1][1:])"
   ]
  },
  {
   "cell_type": "code",
   "execution_count": 9,
   "metadata": {},
   "outputs": [
    {
     "name": "stdout",
     "output_type": "stream",
     "text": [
      "The item in the second column are :\n",
      "[2 5 8]\n",
      "\n",
      "\n"
     ]
    }
   ],
   "source": [
    "# this returns array of items in the second column\n",
    "print('The item in the second column are :')\n",
    "print(a[...,1])\n",
    "print('\\n')\n"
   ]
  },
  {
   "cell_type": "code",
   "execution_count": 10,
   "metadata": {},
   "outputs": [
    {
     "name": "stdout",
     "output_type": "stream",
     "text": [
      "The item in the second row are :\n",
      "[4 5 6]\n",
      "\n",
      "\n"
     ]
    }
   ],
   "source": [
    "# this returns array of items in the second row\n",
    "print('The item in the second row are :')\n",
    "print(a[1,...])      # Row index for second row is 1 \n",
    "print('\\n')\n"
   ]
  },
  {
   "cell_type": "code",
   "execution_count": 11,
   "metadata": {},
   "outputs": [
    {
     "name": "stdout",
     "output_type": "stream",
     "text": [
      "The items column1 onward are :\n",
      "[[2 3]\n",
      " [5 6]\n",
      " [8 9]]\n",
      "\n",
      "\n"
     ]
    }
   ],
   "source": [
    "# this returns slice all items from column 1 onwards \n",
    "print('The items column1 onward are :')\n",
    "print(a[...,1:])      # Row index for second row is 1 \n",
    "print('\\n')\n"
   ]
  },
  {
   "cell_type": "markdown",
   "metadata": {},
   "source": [
    "# advance slicing \n"
   ]
  },
  {
   "cell_type": "code",
   "execution_count": 13,
   "metadata": {},
   "outputs": [
    {
     "name": "stdout",
     "output_type": "stream",
     "text": [
      "[1 4 5]\n"
     ]
    }
   ],
   "source": [
    "x=np.array([[1,2],[3,4],[5,6]])\n",
    "y=x[[0,1,2],[0,1,0]]\n",
    "print(y)"
   ]
  },
  {
   "cell_type": "code",
   "execution_count": 14,
   "metadata": {},
   "outputs": [
    {
     "name": "stdout",
     "output_type": "stream",
     "text": [
      "[[ 0  1  2]\n",
      " [ 3  4  5]\n",
      " [ 6  7  8]\n",
      " [ 9 10 11]]\n"
     ]
    }
   ],
   "source": [
    "x=np.array([[0,1,2],[3,4,5],[6,7,8],[9,10,11]])\n",
    "print(x)\n"
   ]
  },
  {
   "cell_type": "code",
   "execution_count": 15,
   "metadata": {
    "collapsed": true
   },
   "outputs": [],
   "source": [
    "rows=np.array([[0,0],[3,3]])\n",
    "cols=np.array([[0,2],[0,2]])\n",
    "y=x[rows,cols]"
   ]
  },
  {
   "cell_type": "code",
   "execution_count": 16,
   "metadata": {},
   "outputs": [
    {
     "name": "stdout",
     "output_type": "stream",
     "text": [
      "The corner elements of this array are:\n",
      "[[ 0  2]\n",
      " [ 9 11]]\n"
     ]
    }
   ],
   "source": [
    "print('The corner elements of this array are:')\n",
    "print(y)"
   ]
  },
  {
   "cell_type": "code",
   "execution_count": 17,
   "metadata": {},
   "outputs": [
    {
     "name": "stdout",
     "output_type": "stream",
     "text": [
      "our array is:\n",
      "[[ 0  1  2]\n",
      " [ 3  4  5]\n",
      " [ 6  7  8]\n",
      " [ 9 10 11]]\n",
      "\n",
      "\n"
     ]
    }
   ],
   "source": [
    "x=np.array([[0,1,2],[3,4,5],[6,7,8],[9,10,11]])\n",
    "print('our array is:')\n",
    "print(x)\n",
    "print('\\n')"
   ]
  },
  {
   "cell_type": "code",
   "execution_count": 20,
   "metadata": {},
   "outputs": [
    {
     "name": "stdout",
     "output_type": "stream",
     "text": [
      "After Slicing, our array becomes:\n",
      "[[ 4  5]\n",
      " [ 7  8]\n",
      " [10 11]]\n",
      "\n",
      "\n"
     ]
    }
   ],
   "source": [
    "# slicing\n",
    "z=x[1:4,1:3]\n",
    "print('After Slicing, our array becomes:')\n",
    "print(z)\n",
    "print('\\n')\n"
   ]
  },
  {
   "cell_type": "code",
   "execution_count": 21,
   "metadata": {},
   "outputs": [
    {
     "name": "stdout",
     "output_type": "stream",
     "text": [
      "slicing using advance index for column\n",
      "[[ 4  5]\n",
      " [ 7  8]\n",
      " [10 11]]\n"
     ]
    }
   ],
   "source": [
    "# using advance index for column\n",
    "y=x[1:4,[1,2]]\n",
    "print('slicing using advance index for column')\n",
    "print(y)\n"
   ]
  },
  {
   "cell_type": "code",
   "execution_count": 22,
   "metadata": {},
   "outputs": [
    {
     "name": "stdout",
     "output_type": "stream",
     "text": [
      "Our array is :\n",
      "[ 0  1  2  3  4  5  6  7  8  9 10 11]\n",
      "\n",
      "\n"
     ]
    }
   ],
   "source": [
    "x=np.array([0,1,2,3,4,5,6,7,8,9,10,11])\n",
    "print('Our array is :')\n",
    "print(x)\n",
    "print('\\n')"
   ]
  },
  {
   "cell_type": "code",
   "execution_count": 23,
   "metadata": {},
   "outputs": [
    {
     "name": "stdout",
     "output_type": "stream",
     "text": [
      "The item greater than 5 are:\n",
      "[ 6  7  8  9 10 11]\n"
     ]
    }
   ],
   "source": [
    "# Now we will print item grater than 5\n",
    "print('The item greater than 5 are:')\n",
    "print(x[x>5])"
   ]
  },
  {
   "cell_type": "code",
   "execution_count": 24,
   "metadata": {},
   "outputs": [
    {
     "name": "stdout",
     "output_type": "stream",
     "text": [
      "[ 1.  2.  3.  4.  5.]\n"
     ]
    }
   ],
   "source": [
    "a=np.array([np.nan,1,2,np.nan,3,4,5])\n",
    "print(a[~np.isnan(a)])"
   ]
  },
  {
   "cell_type": "code",
   "execution_count": 25,
   "metadata": {},
   "outputs": [
    {
     "name": "stdout",
     "output_type": "stream",
     "text": [
      "[ 2.0+6.j  3.5+5.j]\n"
     ]
    }
   ],
   "source": [
    "a=np.array([1,2+6j,5,3.5+5j])\n",
    "print(a[np.iscomplex(a)])"
   ]
  },
  {
   "cell_type": "markdown",
   "metadata": {},
   "source": [
    "# Broadcasting"
   ]
  },
  {
   "cell_type": "code",
   "execution_count": 26,
   "metadata": {},
   "outputs": [
    {
     "name": "stdout",
     "output_type": "stream",
     "text": [
      "[ 10  40  90 160]\n"
     ]
    }
   ],
   "source": [
    "a=np.array([1,2,3,4])\n",
    "b=np.array([10,20,30,40])\n",
    "c=a*b\n",
    "print(c)"
   ]
  },
  {
   "cell_type": "code",
   "execution_count": 27,
   "metadata": {},
   "outputs": [
    {
     "name": "stdout",
     "output_type": "stream",
     "text": [
      "[ 50 100 150 200]\n"
     ]
    }
   ],
   "source": [
    "d=5*b\n",
    "print(d)"
   ]
  },
  {
   "cell_type": "code",
   "execution_count": 28,
   "metadata": {
    "collapsed": true
   },
   "outputs": [],
   "source": [
    "a=np.array([[0,0,0],[10,10,10],[20,20,20],[30,30,30]])\n",
    "b=np.array([1,2,3])\n",
    "c=np.array([[1],[2],[3],[4]])"
   ]
  },
  {
   "cell_type": "code",
   "execution_count": 29,
   "metadata": {},
   "outputs": [
    {
     "name": "stdout",
     "output_type": "stream",
     "text": [
      "First array:\n",
      "[[ 0  0  0]\n",
      " [10 10 10]\n",
      " [20 20 20]\n",
      " [30 30 30]]\n",
      "\n",
      "\n"
     ]
    }
   ],
   "source": [
    "print('First array:')\n",
    "print(a)\n",
    "print('\\n')"
   ]
  },
  {
   "cell_type": "code",
   "execution_count": 30,
   "metadata": {},
   "outputs": [
    {
     "name": "stdout",
     "output_type": "stream",
     "text": [
      "second array\n",
      "[1 2 3]\n",
      "\n",
      "\n"
     ]
    }
   ],
   "source": [
    "print('second array')\n",
    "print(b)\n",
    "print('\\n')"
   ]
  },
  {
   "cell_type": "code",
   "execution_count": 31,
   "metadata": {},
   "outputs": [
    {
     "name": "stdout",
     "output_type": "stream",
     "text": [
      "First array + seconf array\n",
      "[[ 1  2  3]\n",
      " [11 12 13]\n",
      " [21 22 23]\n",
      " [31 32 33]]\n"
     ]
    }
   ],
   "source": [
    "print('First array + seconf array')\n",
    "print(a+b)\n"
   ]
  },
  {
   "cell_type": "code",
   "execution_count": 32,
   "metadata": {},
   "outputs": [
    {
     "name": "stdout",
     "output_type": "stream",
     "text": [
      "[[ 1  1  1]\n",
      " [12 12 12]\n",
      " [23 23 23]\n",
      " [34 34 34]]\n"
     ]
    }
   ],
   "source": [
    "print(a+c)"
   ]
  },
  {
   "cell_type": "code",
   "execution_count": 33,
   "metadata": {},
   "outputs": [
    {
     "name": "stdout",
     "output_type": "stream",
     "text": [
      "Sine of different angles:\n",
      "[ 0.          0.5         0.70710678  0.8660254   1.        ]\n",
      "\n",
      "\n",
      "cosine of different angles:\n",
      "[  1.00000000e+00   8.66025404e-01   7.07106781e-01   5.00000000e-01\n",
      "   6.12323400e-17]\n",
      "\n",
      "\n",
      "Tangent of different angles:\n",
      "[  0.00000000e+00   5.77350269e-01   1.00000000e+00   1.73205081e+00\n",
      "   1.63312394e+16]\n",
      "\n",
      "\n"
     ]
    }
   ],
   "source": [
    "a=np.array([0,30,45,60,90])\n",
    "print('Sine of different angles:')\n",
    "# Convert to radians by multiplying with pi/180\n",
    "print(np.sin(a*np.pi/180))\n",
    "print('\\n')\n",
    "\n",
    "print('cosine of different angles:')\n",
    "print(np.cos(a*np.pi/180))\n",
    "print('\\n')\n",
    "\n",
    "\n",
    "print('Tangent of different angles:')\n",
    "print(np.tan(a*np.pi/180))\n",
    "print('\\n')\n",
    "\n"
   ]
  },
  {
   "cell_type": "markdown",
   "metadata": {},
   "source": [
    "# Rounding "
   ]
  },
  {
   "cell_type": "code",
   "execution_count": 34,
   "metadata": {},
   "outputs": [
    {
     "name": "stdout",
     "output_type": "stream",
     "text": [
      "Original array :\n",
      "[   1.       5.55   123.       0.567   25.532]\n",
      "\n",
      "\n"
     ]
    }
   ],
   "source": [
    "a=np.array([1.0,5.55,123,0.567,25.532])\n",
    "\n",
    "print('Original array :')\n",
    "print(a)\n",
    "print('\\n')\n",
    "\n"
   ]
  },
  {
   "cell_type": "code",
   "execution_count": 35,
   "metadata": {},
   "outputs": [
    {
     "name": "stdout",
     "output_type": "stream",
     "text": [
      "after rounding\n",
      "[   1.    6.  123.    1.   26.]\n",
      "[   1.     5.6  123.     0.6   25.5]\n"
     ]
    }
   ],
   "source": [
    "print('after rounding')\n",
    "print(np.around(a))\n",
    "print(np.around(a,decimals=1))"
   ]
  },
  {
   "cell_type": "code",
   "execution_count": 37,
   "metadata": {},
   "outputs": [
    {
     "name": "stdout",
     "output_type": "stream",
     "text": [
      "[   0.   10.  120.    0.   30.]\n"
     ]
    }
   ],
   "source": [
    "print(np.around(a,decimals=-1))\n",
    "#round up to 10"
   ]
  },
  {
   "cell_type": "code",
   "execution_count": 38,
   "metadata": {},
   "outputs": [
    {
     "name": "stdout",
     "output_type": "stream",
     "text": [
      "Original array :\n",
      "[ -1.7   1.5  -0.2   0.6  10. ]\n",
      "\n",
      "\n",
      "The modified array:\n",
      "[ -2.   1.  -1.   0.  10.]\n",
      "The Modified array:\n",
      "[ -1.   2.  -0.   1.  10.]\n"
     ]
    }
   ],
   "source": [
    "a=np.array([-1.7,1.5,-0.2,0.6,10])\n",
    "print('Original array :')\n",
    "print(a)\n",
    "print('\\n')\n",
    "\n",
    "print('The modified array:')\n",
    "print(np.floor(a))\n",
    "\n",
    "print('The Modified array:')\n",
    "print(np.ceil(a))\n"
   ]
  },
  {
   "cell_type": "markdown",
   "metadata": {},
   "source": [
    "# Arithmatic"
   ]
  },
  {
   "cell_type": "code",
   "execution_count": 39,
   "metadata": {
    "collapsed": true
   },
   "outputs": [],
   "source": [
    "a=np.arange(9,dtype=np.float).reshape(3,3)"
   ]
  },
  {
   "cell_type": "code",
   "execution_count": 40,
   "metadata": {},
   "outputs": [
    {
     "name": "stdout",
     "output_type": "stream",
     "text": [
      "First array\n",
      "[[ 0.  1.  2.]\n",
      " [ 3.  4.  5.]\n",
      " [ 6.  7.  8.]]\n"
     ]
    }
   ],
   "source": [
    "print('First array')\n",
    "print(a)"
   ]
  },
  {
   "cell_type": "code",
   "execution_count": 41,
   "metadata": {},
   "outputs": [
    {
     "name": "stdout",
     "output_type": "stream",
     "text": [
      "Second array\n",
      "[10  5  1]\n"
     ]
    }
   ],
   "source": [
    "print('Second array')\n",
    "b=np.array([10,5,1])\n",
    "print(b)"
   ]
  },
  {
   "cell_type": "code",
   "execution_count": 43,
   "metadata": {},
   "outputs": [
    {
     "name": "stdout",
     "output_type": "stream",
     "text": [
      "add two array\n",
      "[[ 10.   6.   3.]\n",
      " [ 13.   9.   6.]\n",
      " [ 16.  12.   9.]]\n"
     ]
    }
   ],
   "source": [
    "print('add two array')\n",
    "print(np.add(a,b))"
   ]
  },
  {
   "cell_type": "code",
   "execution_count": 44,
   "metadata": {},
   "outputs": [
    {
     "name": "stdout",
     "output_type": "stream",
     "text": [
      "subtract two array\n",
      "[[-10.  -4.   1.]\n",
      " [ -7.  -1.   4.]\n",
      " [ -4.   2.   7.]]\n"
     ]
    }
   ],
   "source": [
    "print('subtract two array')\n",
    "print(np.subtract(a,b))"
   ]
  },
  {
   "cell_type": "code",
   "execution_count": 45,
   "metadata": {},
   "outputs": [
    {
     "name": "stdout",
     "output_type": "stream",
     "text": [
      "Multiply two array\n",
      "[[  0.   5.   2.]\n",
      " [ 30.  20.   5.]\n",
      " [ 60.  35.   8.]]\n"
     ]
    }
   ],
   "source": [
    "print('Multiply two array')\n",
    "print(np.multiply(a,b))"
   ]
  },
  {
   "cell_type": "code",
   "execution_count": 46,
   "metadata": {},
   "outputs": [
    {
     "name": "stdout",
     "output_type": "stream",
     "text": [
      "divide two array\n",
      "[[ 0.   0.2  2. ]\n",
      " [ 0.3  0.8  5. ]\n",
      " [ 0.6  1.4  8. ]]\n"
     ]
    }
   ],
   "source": [
    "print('divide two array')\n",
    "print(np.divide(a,b))"
   ]
  },
  {
   "cell_type": "code",
   "execution_count": 47,
   "metadata": {},
   "outputs": [
    {
     "name": "stdout",
     "output_type": "stream",
     "text": [
      "our array is:\n",
      "[   0.25    1.33    1.      0.    100.  ]\n"
     ]
    }
   ],
   "source": [
    "a=np.array([0.25,1.33,1,0,100])\n",
    "print('our array is:')\n",
    "print(a)"
   ]
  },
  {
   "cell_type": "code",
   "execution_count": 48,
   "metadata": {},
   "outputs": [
    {
     "name": "stdout",
     "output_type": "stream",
     "text": [
      "after applying arciprocalfunction :\n",
      "[ 4.         0.7518797  1.               inf  0.01     ]\n"
     ]
    },
    {
     "name": "stderr",
     "output_type": "stream",
     "text": [
      "C:\\ProgramData\\Anaconda3\\lib\\site-packages\\ipykernel_launcher.py:2: RuntimeWarning: divide by zero encountered in reciprocal\n",
      "  \n"
     ]
    }
   ],
   "source": [
    "print('after applying rciprocalfunction :')\n",
    "print(np.reciprocal(a))"
   ]
  },
  {
   "cell_type": "code",
   "execution_count": 49,
   "metadata": {},
   "outputs": [
    {
     "name": "stdout",
     "output_type": "stream",
     "text": [
      "The second array is :\n",
      "[100]\n"
     ]
    }
   ],
   "source": [
    "b=np.array([100],dtype=int)\n",
    "print('The second array is :')\n",
    "print(b)"
   ]
  },
  {
   "cell_type": "code",
   "execution_count": 50,
   "metadata": {},
   "outputs": [
    {
     "name": "stdout",
     "output_type": "stream",
     "text": [
      "after applying arciprocalfunction :\n",
      "[0]\n"
     ]
    }
   ],
   "source": [
    "print('after applying rciprocal function :')\n",
    "print(np.reciprocal(b))"
   ]
  },
  {
   "cell_type": "code",
   "execution_count": 51,
   "metadata": {},
   "outputs": [
    {
     "name": "stdout",
     "output_type": "stream",
     "text": [
      "Our array is:\n",
      "[  10  100 1000]\n",
      "applying power function:\n",
      "[    100   10000 1000000]\n"
     ]
    }
   ],
   "source": [
    "a=np.array([10,100,1000])\n",
    "print('Our array is:')\n",
    "print(a)\n",
    "print('applying power function:')\n",
    "print(np.power(a,2))"
   ]
  },
  {
   "cell_type": "code",
   "execution_count": 53,
   "metadata": {},
   "outputs": [
    {
     "name": "stdout",
     "output_type": "stream",
     "text": [
      "Our second array is:\n",
      "applying power function:\n",
      "[1 4 9]\n"
     ]
    }
   ],
   "source": [
    "print('Our second array is:')\n",
    "b=np.array([1,2,3])\n",
    "print('applying power function:')\n",
    "print(np.power(b,2))"
   ]
  },
  {
   "cell_type": "code",
   "execution_count": null,
   "metadata": {
    "collapsed": true
   },
   "outputs": [],
   "source": [
    "a=np.array([10,20,30])\n",
    "b=np.array([3,5,7])\n"
   ]
  },
  {
   "cell_type": "code",
   "execution_count": 54,
   "metadata": {},
   "outputs": [
    {
     "name": "stdout",
     "output_type": "stream",
     "text": [
      "Our first array is:\n",
      "[  10  100 1000]\n",
      "Our Second array is:\n",
      "[1 2 3]\n",
      "applying mod() function:\n",
      "[0 0 1]\n"
     ]
    }
   ],
   "source": [
    "print('Our first array is:')\n",
    "print(a)\n",
    "print('Our Second array is:')\n",
    "print(b)\n",
    "print('applying mod() function:')\n",
    "print(np.mod(a,b))"
   ]
  },
  {
   "cell_type": "code",
   "execution_count": 55,
   "metadata": {},
   "outputs": [
    {
     "name": "stdout",
     "output_type": "stream",
     "text": [
      "applying remainder() function:\n",
      "[0 0 1]\n"
     ]
    }
   ],
   "source": [
    "print('applying remainder() function:')\n",
    "print(np.remainder(a,b))"
   ]
  },
  {
   "cell_type": "code",
   "execution_count": null,
   "metadata": {
    "collapsed": true
   },
   "outputs": [],
   "source": []
  },
  {
   "cell_type": "code",
   "execution_count": null,
   "metadata": {
    "collapsed": true
   },
   "outputs": [],
   "source": []
  },
  {
   "cell_type": "code",
   "execution_count": null,
   "metadata": {
    "collapsed": true
   },
   "outputs": [],
   "source": []
  },
  {
   "cell_type": "code",
   "execution_count": null,
   "metadata": {
    "collapsed": true
   },
   "outputs": [],
   "source": []
  }
 ],
 "metadata": {
  "kernelspec": {
   "display_name": "Python 3",
   "language": "python",
   "name": "python3"
  },
  "language_info": {
   "codemirror_mode": {
    "name": "ipython",
    "version": 3
   },
   "file_extension": ".py",
   "mimetype": "text/x-python",
   "name": "python",
   "nbconvert_exporter": "python",
   "pygments_lexer": "ipython3",
   "version": "3.6.3"
  }
 },
 "nbformat": 4,
 "nbformat_minor": 2
}
