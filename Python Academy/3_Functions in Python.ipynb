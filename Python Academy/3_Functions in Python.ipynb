{
 "cells": [
  {
   "cell_type": "markdown",
   "metadata": {},
   "source": [
    "# Functions"
   ]
  },
  {
   "cell_type": "code",
   "execution_count": 1,
   "metadata": {
    "collapsed": true
   },
   "outputs": [],
   "source": [
    "def print_max(a,b):\n",
    "    if a>b:\n",
    "        print(a,'is Greater Number')\n",
    "    elif a==b:\n",
    "        print('Both number are same')\n",
    "    else:\n",
    "        print(b,'is Greater Number')"
   ]
  },
  {
   "cell_type": "code",
   "execution_count": 2,
   "metadata": {},
   "outputs": [
    {
     "name": "stdout",
     "output_type": "stream",
     "text": [
      "7 is Greater Number\n"
     ]
    }
   ],
   "source": [
    "# Direct Pass literal Value\n",
    "print_max(5,7)"
   ]
  },
  {
   "cell_type": "code",
   "execution_count": 3,
   "metadata": {},
   "outputs": [
    {
     "name": "stdout",
     "output_type": "stream",
     "text": [
      "9 is Greater Number\n"
     ]
    }
   ],
   "source": [
    "# Pass variable as argument\n",
    "x=8\n",
    "y=9\n",
    "print_max(x,y)      #Calling to function, with arguments "
   ]
  },
  {
   "cell_type": "code",
   "execution_count": 5,
   "metadata": {},
   "outputs": [
    {
     "name": "stdout",
     "output_type": "stream",
     "text": [
      "11\n"
     ]
    }
   ],
   "source": [
    "def printable(a,b):\n",
    "    print(a+b)\n",
    "printable(5,6)"
   ]
  },
  {
   "cell_type": "markdown",
   "metadata": {
    "collapsed": true
   },
   "source": [
    "# Local Variable"
   ]
  },
  {
   "cell_type": "code",
   "execution_count": 1,
   "metadata": {},
   "outputs": [
    {
     "name": "stdout",
     "output_type": "stream",
     "text": [
      "x is  50\n",
      "Local x is  2\n",
      "Still x out side the function is  50\n"
     ]
    }
   ],
   "source": [
    "x=50 # global to this program \n",
    "\n",
    "def fun(x):\n",
    "    print('x is ', x)\n",
    "    x=2           # this x is local to function \n",
    "    print('Local x is ', x)\n",
    "    \n",
    "    \n",
    "fun(x) # called using global variable\n",
    "print('Still x out side the function is ',x)"
   ]
  },
  {
   "cell_type": "markdown",
   "metadata": {},
   "source": [
    "# Global Variable"
   ]
  },
  {
   "cell_type": "code",
   "execution_count": 3,
   "metadata": {},
   "outputs": [
    {
     "name": "stdout",
     "output_type": "stream",
     "text": [
      "x is  50\n",
      "Changed global x to  2\n",
      "Outside the fuction x is  2\n",
      "Outside the funtion x is  3\n"
     ]
    }
   ],
   "source": [
    "x=50\n",
    "\n",
    "def func():\n",
    "    global x\n",
    "    print('x is ',x)\n",
    "    x=2    # here we are making changes is global variable \n",
    "    print('Changed global x to ',x)\n",
    "\n",
    "func()\n",
    "print('Outside the fuction x is ',x)   # if change in global variable retain its updated value\n",
    "x=3\n",
    "print('Outside the funtion x is ',x)"
   ]
  },
  {
   "cell_type": "markdown",
   "metadata": {},
   "source": [
    "# Default Values "
   ]
  },
  {
   "cell_type": "code",
   "execution_count": 14,
   "metadata": {},
   "outputs": [
    {
     "name": "stdout",
     "output_type": "stream",
     "text": [
      "Hello_Hello_Hello_\n",
      "hi_hi_hi_hi_\n",
      "Hind_\n",
      "12\n"
     ]
    }
   ],
   "source": [
    "def say(message,times=3): # Times have default initial value 3 if we not called then its by default start with 3 \n",
    "    print(message*times)\n",
    "    \n",
    "say('Hello_')  # Calling fuction where first paramete pass 'Hello_'\n",
    "say('hi_',4)   # Both parameter we are passing, default value of times get updated with called value \n",
    "say('Hind_',1)\n",
    "say(4)         # here 4 get assign to the message as numeric value "
   ]
  },
  {
   "cell_type": "markdown",
   "metadata": {},
   "source": [
    "# Keyword Passing "
   ]
  },
  {
   "cell_type": "code",
   "execution_count": 22,
   "metadata": {},
   "outputs": [
    {
     "name": "stdout",
     "output_type": "stream",
     "text": [
      "Value of a: 5 Value of b: 7 Value of c: 7\n",
      "Value of a: 8 Value of b: 5 Value of c: 9\n",
      "Value of a: 9 Value of b: 13 Value of c: 7\n"
     ]
    }
   ],
   "source": [
    "def fun(a,b=5,c=7):\n",
    "    print('Value of a:',a ,'Value of b:',b ,'Value of c:',c)\n",
    "fun(5,7)       # called with only 2 parameters assign fro left to right to fuction variable \n",
    "fun(8,c=9)  #we can initialize any variable from calling by just using keyword \n",
    "fun(b=13,a=9)\n"
   ]
  },
  {
   "cell_type": "markdown",
   "metadata": {},
   "source": [
    "### Q.> summation program using function 1+2+3+4......"
   ]
  },
  {
   "cell_type": "code",
   "execution_count": 8,
   "metadata": {},
   "outputs": [
    {
     "name": "stdout",
     "output_type": "stream",
     "text": [
      "Enter any value of(n) : 5\n",
      "Sum : 15\n"
     ]
    }
   ],
   "source": [
    "# summation program using function 1+2+3+4......\n",
    "n=int(input('Enter any value of(n) : ') or 4) # here 4 is default value for input \n",
    "sum=0\n",
    "def summ(n=10):\n",
    "    global sum\n",
    "    for i in range(1,n+1,1):\n",
    "        sum=sum+i\n",
    "    print('Sum :',sum)\n",
    "summ(n)"
   ]
  },
  {
   "cell_type": "code",
   "execution_count": 5,
   "metadata": {},
   "outputs": [
    {
     "name": "stdout",
     "output_type": "stream",
     "text": [
      "Help on method raw_input in module ipykernel.kernelbase:\n",
      "\n",
      "raw_input(prompt='') method of ipykernel.ipkernel.IPythonKernel instance\n",
      "    Forward raw_input to frontends\n",
      "    \n",
      "    Raises\n",
      "    ------\n",
      "    StdinNotImplentedError if active frontend doesn't support stdin.\n",
      "\n"
     ]
    }
   ],
   "source": [
    "help(input)"
   ]
  },
  {
   "cell_type": "markdown",
   "metadata": {},
   "source": [
    "# Variable Argument Passing"
   ]
  },
  {
   "cell_type": "code",
   "execution_count": 14,
   "metadata": {},
   "outputs": [
    {
     "name": "stdout",
     "output_type": "stream",
     "text": [
      "10\n",
      "(1, 2, 3)\n",
      "{'vegetables': 50, 'fruitds': 100}\n",
      "Total= 166\n",
      "--------------------------------------------------------------------------------------------------------\n",
      "5\n",
      "(1, 2, 3, 4, 5)\n",
      "{'vegetables': 50, 'fruits': 100, 'bags': 10}\n",
      "Total= 180\n",
      "--------------------------------------------------------------------------------------------------------\n",
      "5\n",
      "()\n",
      "{'vegetables': 50, 'fruits': 100, 'bags': 40}\n",
      "Total= 195\n",
      "--------------------------------------------------------------------------------------------------------\n",
      "5\n",
      "()\n",
      "{}\n",
      "Total= 5\n"
     ]
    }
   ],
   "source": [
    "def total(initial=5,*numbers,**keywords):\n",
    "    count=initial\n",
    "    print(count)\n",
    "    print(numbers)\n",
    "    for number in numbers:\n",
    "        count+=number\n",
    "    print(keywords)\n",
    "    for key in keywords:\n",
    "        count+=keywords[key]\n",
    "    return(count)\n",
    "\n",
    "\n",
    "\n",
    "print('Total=',total(10,1,2,3,vegetables=50,fruitds=100))\n",
    "\n",
    "print('--------------------------------------------------------------------------------------------------------')\n",
    "\n",
    "print('Total=',total(5,1,2,3,4,5,vegetables=50,fruits=100,bags=10))\n",
    "\n",
    "print('--------------------------------------------------------------------------------------------------------')\n",
    "\n",
    "print('Total=',total(vegetables=50,fruits=100,bags=40))\n",
    "\n",
    "print('--------------------------------------------------------------------------------------------------------')\n",
    "\n",
    "print('Total=',total())"
   ]
  },
  {
   "cell_type": "markdown",
   "metadata": {},
   "source": [
    "# Return"
   ]
  },
  {
   "cell_type": "code",
   "execution_count": 20,
   "metadata": {},
   "outputs": [
    {
     "name": "stdout",
     "output_type": "stream",
     "text": [
      "Maximum Number is = The numbers are equal\n",
      "<class 'str'>\n"
     ]
    }
   ],
   "source": [
    "def maximum(x,y):\n",
    "    if x>y:\n",
    "        return x\n",
    "    elif x==y:\n",
    "        return 'The numbers are equal'\n",
    "    else:\n",
    "        return y\n",
    "    \n",
    "maximum=maximum(5,5)\n",
    "print('Maximum Number is =',maximum)\n",
    "print(type(maximum))"
   ]
  },
  {
   "cell_type": "markdown",
   "metadata": {},
   "source": [
    "# DocString"
   ]
  },
  {
   "cell_type": "code",
   "execution_count": 21,
   "metadata": {},
   "outputs": [
    {
     "name": "stdout",
     "output_type": "stream",
     "text": [
      "5 is Greater number\n",
      "Prints the maximum of two numbers. The two values must be integers.\n"
     ]
    }
   ],
   "source": [
    "def print_max(x,y):\n",
    "    '''Prints the maximum of two numbers. The two values must be integers.'''\n",
    "    # Convert to integers \n",
    "    x=int(x)\n",
    "    y=int(y)\n",
    "    if x>y:\n",
    "        print(x,'is Greater number')\n",
    "    else:\n",
    "        print(y,'is Greater number')\n",
    "        \n",
    "        \n",
    "print_max(3,5)\n",
    "print(print_max.__doc__)"
   ]
  },
  {
   "cell_type": "code",
   "execution_count": null,
   "metadata": {
    "collapsed": true
   },
   "outputs": [],
   "source": []
  },
  {
   "cell_type": "code",
   "execution_count": null,
   "metadata": {
    "collapsed": true
   },
   "outputs": [],
   "source": []
  },
  {
   "cell_type": "code",
   "execution_count": null,
   "metadata": {
    "collapsed": true
   },
   "outputs": [],
   "source": []
  },
  {
   "cell_type": "code",
   "execution_count": null,
   "metadata": {
    "collapsed": true
   },
   "outputs": [],
   "source": []
  },
  {
   "cell_type": "code",
   "execution_count": null,
   "metadata": {
    "collapsed": true
   },
   "outputs": [],
   "source": []
  },
  {
   "cell_type": "code",
   "execution_count": null,
   "metadata": {
    "collapsed": true
   },
   "outputs": [],
   "source": []
  },
  {
   "cell_type": "code",
   "execution_count": null,
   "metadata": {
    "collapsed": true
   },
   "outputs": [],
   "source": []
  },
  {
   "cell_type": "code",
   "execution_count": null,
   "metadata": {
    "collapsed": true
   },
   "outputs": [],
   "source": []
  },
  {
   "cell_type": "code",
   "execution_count": null,
   "metadata": {
    "collapsed": true
   },
   "outputs": [],
   "source": []
  },
  {
   "cell_type": "code",
   "execution_count": null,
   "metadata": {
    "collapsed": true
   },
   "outputs": [],
   "source": []
  },
  {
   "cell_type": "code",
   "execution_count": null,
   "metadata": {
    "collapsed": true
   },
   "outputs": [],
   "source": []
  },
  {
   "cell_type": "code",
   "execution_count": null,
   "metadata": {
    "collapsed": true
   },
   "outputs": [],
   "source": []
  }
 ],
 "metadata": {
  "kernelspec": {
   "display_name": "Python 3",
   "language": "python",
   "name": "python3"
  },
  "language_info": {
   "codemirror_mode": {
    "name": "ipython",
    "version": 3
   },
   "file_extension": ".py",
   "mimetype": "text/x-python",
   "name": "python",
   "nbconvert_exporter": "python",
   "pygments_lexer": "ipython3",
   "version": "3.6.3"
  }
 },
 "nbformat": 4,
 "nbformat_minor": 2
}
