{
 "cells": [
  {
   "cell_type": "code",
   "execution_count": 98,
   "metadata": {},
   "outputs": [
    {
     "name": "stdout",
     "output_type": "stream",
     "text": [
      "SLY2301~Hannah Abbott~9.5\n",
      "SLY2302~Euan Abercrombie~7.5\n",
      "SLY2303~Stewart Ackerley~8.0\n",
      "SLY2304~Bertram Aubrey~0\n",
      "SLY2305~Avery~8.5\n",
      "SLY2306~Malcolm Baddock~6.5\n",
      "SLY2307~Marcus Belby~8.0\n",
      "SLY2308~Katie Bell~9.5\n",
      "SLY2309~Sirius Orion Black~9.0\n"
     ]
    }
   ],
   "source": [
    "#cour=open(\"Students.txt\",'r')\n",
    "#f = open(\"add.txt\",\"a\") \n",
    "#grad=open(\"Grades.txt\",'r')\n",
    "#file1=cour.read()\n",
    "#print(file1)\n",
    "cour=[['SLY2301', 'Hannah Abbott'],\n",
    "['SLY2302', 'Euan Abercrombie'],\n",
    "['SLY2303', 'Stewart Ackerley'],\n",
    "['SLY2304', 'Bertram Aubrey'],\n",
    "['SLY2305', 'Avery'],\n",
    "['SLY2306', 'Malcolm Baddock'],\n",
    "['SLY2307', 'Marcus Belby'],\n",
    "['SLY2308', 'Katie Bell'],\n",
    "['SLY2309', 'Sirius Orion Black']]\n",
    "for line in cour:\n",
    "    sum=0\n",
    "    count=0\n",
    "    #f1=line.split('~')\n",
    "    #print(f1)\n",
    "    #grad=open(\"Grades.txt\",'r')\n",
    "    grad=[['TRAN', '1', '2011-2012', 'SLY2301', 'AB\\n'],\n",
    "    ['TRAN', '1', '2011-2012', 'SLY2302', 'B\\n'],\n",
    "    ['TRAN', '1', '2011-2012', 'SLY2303', 'B\\n'],\n",
    "    ['TRAN', '1', '2011-2012', 'SLY2305', 'A\\n'],\n",
    "    ['TRAN', '1', '2011-2012', 'SLY2306', 'BC\\n'],\n",
    "    ['TRAN', '1', '2011-2012', 'SLY2308', 'A\\n'],\n",
    "    ['TRAN', '1', '2011-2012', 'SLY2309', 'AB\\n'],\n",
    "    ['CHAR', '1', '2011-2012', 'SLY2301', 'A\\n'],\n",
    "    ['CHAR', '1', '2011-2012', 'SLY2302', 'BC\\n'],\n",
    "    ['CHAR', '1', '2011-2012', 'SLY2303', 'B\\n'],\n",
    "    ['CHAR', '1', '2011-2012', 'SLY2305', 'BC\\n'],\n",
    "    ['CHAR', '1', '2011-2012', 'SLY2306', 'C\\n'],\n",
    "    ['CHAR', '1', '2011-2012', 'SLY2307', 'B\\n'],\n",
    "    ['CHAR', '1', '2011-2012', 'SLY2308', 'AB\\n']]\n",
    "    for line2 in grad:\n",
    "        #f2=line2.split('~')\n",
    "        #print(f2[3])\n",
    "        if(line[0]==line2[3]):\n",
    "            #print('True',f1[0],'',f2[3])\n",
    "            if(line2[4]=='A\\n'):\n",
    "                sum=sum+10\n",
    "                count=count+1\n",
    "            elif(line2[4]=='AB\\n'):\n",
    "                sum=sum+9\n",
    "                count=count+1\n",
    "            elif(line2[4]=='B\\n'):\n",
    "                sum=sum+8\n",
    "                count=count+1\n",
    "            elif(line2[4]=='BC\\n'):\n",
    "                sum=sum+7\n",
    "                count=count+1\n",
    "            elif(line2[4]=='C\\n'):\n",
    "                sum=sum+6\n",
    "                count=count+1\n",
    "            elif(line2[4]=='CD\\n'):\n",
    "                sum=sum+5\n",
    "                count=count+1\n",
    "            elif(line2[4]=='D\\n'):\n",
    "                sum=sum+4\n",
    "                count=count+1\n",
    "    if count==0:\n",
    "        result=sum\n",
    "    else:\n",
    "        result=sum/count\n",
    "    result1=str(result)\n",
    "    #f = open(\"add.txt\",\"w\") #create add file in write mode.\n",
    "    \n",
    "    out=(\"{0}~{2}~{1}\".format(line[0],result1,line[1]))\n",
    "    print(out)\n",
    "    #f. write(out)\n",
    "    #f. close() #closing file object.            \n",
    "    "
   ]
  },
  {
   "cell_type": "code",
   "execution_count": 95,
   "metadata": {},
   "outputs": [
    {
     "name": "stdout",
     "output_type": "stream",
     "text": [
      "['SLY2301', 'Hannah Abbott\\n']\n",
      "['SLY2302', 'Euan Abercrombie\\n']\n",
      "['SLY2303', 'Stewart Ackerley\\n']\n",
      "['SLY2304', 'Bertram Aubrey\\n']\n",
      "['SLY2305', 'Avery\\n']\n",
      "['SLY2306', 'Malcolm Baddock\\n']\n",
      "['SLY2307', 'Marcus Belby\\n']\n",
      "['SLY2308', 'Katie Bell\\n']\n",
      "['SLY2309', 'Sirius Orion Black\\n']\n",
      "['TRAN', '1', '2011-2012', 'SLY2301', 'AB\\n']\n",
      "['TRAN', '1', '2011-2012', 'SLY2302', 'B\\n']\n",
      "['TRAN', '1', '2011-2012', 'SLY2303', 'B\\n']\n",
      "['TRAN', '1', '2011-2012', 'SLY2305', 'A\\n']\n",
      "['TRAN', '1', '2011-2012', 'SLY2306', 'BC\\n']\n",
      "['TRAN', '1', '2011-2012', 'SLY2308', 'A\\n']\n",
      "['TRAN', '1', '2011-2012', 'SLY2309', 'AB\\n']\n",
      "['CHAR', '1', '2011-2012', 'SLY2301', 'A\\n']\n",
      "['CHAR', '1', '2011-2012', 'SLY2302', 'BC\\n']\n",
      "['CHAR', '1', '2011-2012', 'SLY2303', 'B\\n']\n",
      "['CHAR', '1', '2011-2012', 'SLY2305', 'BC\\n']\n",
      "['CHAR', '1', '2011-2012', 'SLY2306', 'C\\n']\n",
      "['CHAR', '1', '2011-2012', 'SLY2307', 'B\\n']\n",
      "['CHAR', '1', '2011-2012', 'SLY2308', 'AB\\n']\n"
     ]
    }
   ],
   "source": [
    "cour=open(\"Students.txt\",'r')\n",
    "#red=cour.read()\n",
    "for i in cour:\n",
    "    f3=i.split('~')\n",
    "    print(f3)\n",
    "grad=open(\"Grades.txt\",'r')\n",
    "#red=cour.read()\n",
    "for i in grad:\n",
    "    f3=i.split('~')\n",
    "    print(f3)"
   ]
  },
  {
   "cell_type": "code",
   "execution_count": 93,
   "metadata": {},
   "outputs": [
    {
     "name": "stdout",
     "output_type": "stream",
     "text": [
      "SLY2301\n",
      "SLY2302\n",
      "SLY2303\n",
      "SLY2304\n",
      "SLY2305\n",
      "SLY2306\n",
      "SLY2307\n",
      "SLY2308\n",
      "SLY2309\n"
     ]
    }
   ],
   "source": [
    "cour=[['SLY2301', 'Hannah Abbott\\n'],\n",
    "['SLY2302', 'Euan Abercrombie\\n'],\n",
    "['SLY2303', 'Stewart Ackerley\\n'],\n",
    "['SLY2304', 'Bertram Aubrey\\n'],\n",
    "['SLY2305', 'Avery\\n'],\n",
    "['SLY2306', 'Malcolm Baddock\\n'],\n",
    "['SLY2307', 'Marcus Belby\\n'],\n",
    "['SLY2308', 'Katie Bell\\n'],\n",
    "['SLY2309', 'Sirius Orion Black\\n']]\n",
    "for i in cour:\n",
    "    print(i[0])\n",
    "grad=[['TRAN', '1', '2011-2012', 'SLY2301', 'AB\\n'],\n",
    "['TRAN', '1', '2011-2012', 'SLY2302', 'B\\n'],\n",
    "['TRAN', '1', '2011-2012', 'SLY2303', 'B\\n'],\n",
    "['TRAN', '1', '2011-2012', 'SLY2305', 'A\\n'],\n",
    "['TRAN', '1', '2011-2012', 'SLY2306', 'BC\\n'],\n",
    "['TRAN', '1', '2011-2012', 'SLY2308', 'A\\n'],\n",
    "['TRAN', '1', '2011-2012', 'SLY2309', 'AB\\n'],\n",
    "['CHAR', '1', '2011-2012', 'SLY2301', 'A\\n'],\n",
    "['CHAR', '1', '2011-2012', 'SLY2302', 'BC\\n'],\n",
    "['CHAR', '1', '2011-2012', 'SLY2303', 'B\\n'],\n",
    "['CHAR', '1', '2011-2012', 'SLY2305', 'BC\\n'],\n",
    "['CHAR', '1', '2011-2012', 'SLY2306', 'C\\n'],\n",
    "['CHAR', '1', '2011-2012', 'SLY2307', 'B\\n'],\n",
    "['CHAR', '1', '2011-2012', 'SLY2308', 'AB\\n']]"
   ]
  },
  {
   "cell_type": "code",
   "execution_count": 21,
   "metadata": {},
   "outputs": [
    {
     "name": "stdout",
     "output_type": "stream",
     "text": [
      "14\n",
      "2\n",
      "11\n",
      "16\n",
      "12\n",
      "36\n",
      "60\n",
      "71\n",
      "17\n",
      "29\n",
      "144\n",
      "299\n",
      "129\n",
      "432\n",
      "993\n",
      "4\n"
     ]
    }
   ],
   "source": [
    "fcount=[]\n",
    "arr=[]\n",
    "n=int(input())\n",
    "for i in range(0,n,1):\n",
    "    arr.append(int(input()))\n",
    "##################################\n",
    "for j in range(0,n,1):\n",
    "    for l in range(0,n,1):\n",
    "        count=0\n",
    "        ele=arr[j]\n",
    "        for k in range(l,n,1):\n",
    "            #print(k)\n",
    "            if(arr[k]%ele==0):\n",
    "                count=count+1\n",
    "                #print(\"  \",count,\" \",arr[k],\" \",ele,\" \",j,\" \",k)\n",
    "                ele=arr[k]\n",
    "\n",
    "        fcount.append(count)   \n",
    "maximum=max(fcount)\n",
    "print(maximum)\n"
   ]
  },
  {
   "cell_type": "code",
   "execution_count": null,
   "metadata": {
    "collapsed": true
   },
   "outputs": [],
   "source": []
  },
  {
   "cell_type": "code",
   "execution_count": null,
   "metadata": {
    "collapsed": true
   },
   "outputs": [],
   "source": []
  },
  {
   "cell_type": "code",
   "execution_count": null,
   "metadata": {
    "collapsed": true
   },
   "outputs": [],
   "source": []
  },
  {
   "cell_type": "code",
   "execution_count": null,
   "metadata": {
    "collapsed": true
   },
   "outputs": [],
   "source": []
  },
  {
   "cell_type": "code",
   "execution_count": null,
   "metadata": {
    "collapsed": true
   },
   "outputs": [],
   "source": []
  },
  {
   "cell_type": "code",
   "execution_count": null,
   "metadata": {
    "collapsed": true
   },
   "outputs": [],
   "source": []
  },
  {
   "cell_type": "code",
   "execution_count": null,
   "metadata": {
    "collapsed": true
   },
   "outputs": [],
   "source": []
  },
  {
   "cell_type": "code",
   "execution_count": null,
   "metadata": {
    "collapsed": true
   },
   "outputs": [],
   "source": []
  },
  {
   "cell_type": "code",
   "execution_count": null,
   "metadata": {
    "collapsed": true
   },
   "outputs": [],
   "source": []
  },
  {
   "cell_type": "code",
   "execution_count": null,
   "metadata": {
    "collapsed": true
   },
   "outputs": [],
   "source": []
  },
  {
   "cell_type": "code",
   "execution_count": null,
   "metadata": {
    "collapsed": true
   },
   "outputs": [],
   "source": []
  },
  {
   "cell_type": "code",
   "execution_count": null,
   "metadata": {
    "collapsed": true
   },
   "outputs": [],
   "source": []
  },
  {
   "cell_type": "code",
   "execution_count": null,
   "metadata": {
    "collapsed": true
   },
   "outputs": [],
   "source": []
  },
  {
   "cell_type": "code",
   "execution_count": null,
   "metadata": {
    "collapsed": true
   },
   "outputs": [],
   "source": []
  },
  {
   "cell_type": "code",
   "execution_count": null,
   "metadata": {
    "collapsed": true
   },
   "outputs": [],
   "source": []
  },
  {
   "cell_type": "code",
   "execution_count": null,
   "metadata": {
    "collapsed": true
   },
   "outputs": [],
   "source": []
  },
  {
   "cell_type": "code",
   "execution_count": null,
   "metadata": {
    "collapsed": true
   },
   "outputs": [],
   "source": []
  },
  {
   "cell_type": "code",
   "execution_count": null,
   "metadata": {
    "collapsed": true
   },
   "outputs": [],
   "source": []
  },
  {
   "cell_type": "code",
   "execution_count": null,
   "metadata": {
    "collapsed": true
   },
   "outputs": [],
   "source": []
  },
  {
   "cell_type": "code",
   "execution_count": null,
   "metadata": {
    "collapsed": true
   },
   "outputs": [],
   "source": []
  },
  {
   "cell_type": "code",
   "execution_count": null,
   "metadata": {
    "collapsed": true
   },
   "outputs": [],
   "source": []
  },
  {
   "cell_type": "code",
   "execution_count": null,
   "metadata": {
    "collapsed": true
   },
   "outputs": [],
   "source": []
  },
  {
   "cell_type": "code",
   "execution_count": null,
   "metadata": {
    "collapsed": true
   },
   "outputs": [],
   "source": []
  },
  {
   "cell_type": "code",
   "execution_count": null,
   "metadata": {
    "collapsed": true
   },
   "outputs": [],
   "source": []
  },
  {
   "cell_type": "code",
   "execution_count": null,
   "metadata": {
    "collapsed": true
   },
   "outputs": [],
   "source": []
  },
  {
   "cell_type": "code",
   "execution_count": null,
   "metadata": {
    "collapsed": true
   },
   "outputs": [],
   "source": []
  },
  {
   "cell_type": "code",
   "execution_count": null,
   "metadata": {
    "collapsed": true
   },
   "outputs": [],
   "source": []
  },
  {
   "cell_type": "code",
   "execution_count": null,
   "metadata": {
    "collapsed": true
   },
   "outputs": [],
   "source": []
  },
  {
   "cell_type": "code",
   "execution_count": null,
   "metadata": {
    "collapsed": true
   },
   "outputs": [],
   "source": []
  },
  {
   "cell_type": "code",
   "execution_count": null,
   "metadata": {
    "collapsed": true
   },
   "outputs": [],
   "source": []
  },
  {
   "cell_type": "code",
   "execution_count": null,
   "metadata": {
    "collapsed": true
   },
   "outputs": [],
   "source": []
  },
  {
   "cell_type": "code",
   "execution_count": null,
   "metadata": {
    "collapsed": true
   },
   "outputs": [],
   "source": []
  },
  {
   "cell_type": "code",
   "execution_count": null,
   "metadata": {
    "collapsed": true
   },
   "outputs": [],
   "source": []
  },
  {
   "cell_type": "code",
   "execution_count": null,
   "metadata": {
    "collapsed": true
   },
   "outputs": [],
   "source": []
  },
  {
   "cell_type": "code",
   "execution_count": null,
   "metadata": {
    "collapsed": true
   },
   "outputs": [],
   "source": []
  },
  {
   "cell_type": "code",
   "execution_count": 55,
   "metadata": {},
   "outputs": [
    {
     "name": "stdout",
     "output_type": "stream",
     "text": [
      "Help on built-in function write:\n",
      "\n",
      "write(text, /) method of _io.TextIOWrapper instance\n",
      "    Write string to stream.\n",
      "    Returns the number of characters written (which is always equal to\n",
      "    the length of the string).\n",
      "\n"
     ]
    }
   ],
   "source": [
    "help(f.write)"
   ]
  },
  {
   "cell_type": "code",
   "execution_count": null,
   "metadata": {
    "collapsed": true
   },
   "outputs": [],
   "source": []
  },
  {
   "cell_type": "code",
   "execution_count": null,
   "metadata": {
    "collapsed": true
   },
   "outputs": [],
   "source": []
  },
  {
   "cell_type": "code",
   "execution_count": null,
   "metadata": {
    "collapsed": true
   },
   "outputs": [],
   "source": []
  },
  {
   "cell_type": "code",
   "execution_count": null,
   "metadata": {
    "collapsed": true
   },
   "outputs": [],
   "source": []
  },
  {
   "cell_type": "code",
   "execution_count": null,
   "metadata": {
    "collapsed": true
   },
   "outputs": [],
   "source": []
  },
  {
   "cell_type": "code",
   "execution_count": null,
   "metadata": {
    "collapsed": true
   },
   "outputs": [],
   "source": []
  },
  {
   "cell_type": "code",
   "execution_count": null,
   "metadata": {
    "collapsed": true
   },
   "outputs": [],
   "source": []
  },
  {
   "cell_type": "code",
   "execution_count": null,
   "metadata": {
    "collapsed": true
   },
   "outputs": [],
   "source": []
  },
  {
   "cell_type": "code",
   "execution_count": null,
   "metadata": {
    "collapsed": true
   },
   "outputs": [],
   "source": []
  },
  {
   "cell_type": "code",
   "execution_count": null,
   "metadata": {
    "collapsed": true
   },
   "outputs": [],
   "source": []
  },
  {
   "cell_type": "code",
   "execution_count": null,
   "metadata": {
    "collapsed": true
   },
   "outputs": [],
   "source": []
  },
  {
   "cell_type": "code",
   "execution_count": null,
   "metadata": {
    "collapsed": true
   },
   "outputs": [],
   "source": []
  },
  {
   "cell_type": "code",
   "execution_count": null,
   "metadata": {
    "collapsed": true
   },
   "outputs": [],
   "source": []
  },
  {
   "cell_type": "code",
   "execution_count": null,
   "metadata": {
    "collapsed": true
   },
   "outputs": [],
   "source": []
  },
  {
   "cell_type": "code",
   "execution_count": null,
   "metadata": {
    "collapsed": true
   },
   "outputs": [],
   "source": []
  },
  {
   "cell_type": "code",
   "execution_count": null,
   "metadata": {
    "collapsed": true
   },
   "outputs": [],
   "source": []
  },
  {
   "cell_type": "code",
   "execution_count": null,
   "metadata": {
    "collapsed": true
   },
   "outputs": [],
   "source": []
  },
  {
   "cell_type": "code",
   "execution_count": null,
   "metadata": {
    "collapsed": true
   },
   "outputs": [],
   "source": []
  },
  {
   "cell_type": "code",
   "execution_count": null,
   "metadata": {
    "collapsed": true
   },
   "outputs": [],
   "source": []
  },
  {
   "cell_type": "code",
   "execution_count": null,
   "metadata": {
    "collapsed": true
   },
   "outputs": [],
   "source": []
  },
  {
   "cell_type": "code",
   "execution_count": null,
   "metadata": {
    "collapsed": true
   },
   "outputs": [],
   "source": []
  },
  {
   "cell_type": "code",
   "execution_count": null,
   "metadata": {
    "collapsed": true
   },
   "outputs": [],
   "source": []
  },
  {
   "cell_type": "code",
   "execution_count": null,
   "metadata": {
    "collapsed": true
   },
   "outputs": [],
   "source": []
  },
  {
   "cell_type": "code",
   "execution_count": null,
   "metadata": {
    "collapsed": true
   },
   "outputs": [],
   "source": []
  },
  {
   "cell_type": "code",
   "execution_count": null,
   "metadata": {
    "collapsed": true
   },
   "outputs": [],
   "source": []
  },
  {
   "cell_type": "code",
   "execution_count": null,
   "metadata": {
    "collapsed": true
   },
   "outputs": [],
   "source": []
  },
  {
   "cell_type": "code",
   "execution_count": null,
   "metadata": {
    "collapsed": true
   },
   "outputs": [],
   "source": []
  },
  {
   "cell_type": "code",
   "execution_count": null,
   "metadata": {
    "collapsed": true
   },
   "outputs": [],
   "source": []
  },
  {
   "cell_type": "code",
   "execution_count": null,
   "metadata": {
    "collapsed": true
   },
   "outputs": [],
   "source": []
  },
  {
   "cell_type": "code",
   "execution_count": null,
   "metadata": {
    "collapsed": true
   },
   "outputs": [],
   "source": []
  }
 ],
 "metadata": {
  "kernelspec": {
   "display_name": "Python 3",
   "language": "python",
   "name": "python3"
  },
  "language_info": {
   "codemirror_mode": {
    "name": "ipython",
    "version": 3
   },
   "file_extension": ".py",
   "mimetype": "text/x-python",
   "name": "python",
   "nbconvert_exporter": "python",
   "pygments_lexer": "ipython3",
   "version": "3.6.3"
  }
 },
 "nbformat": 4,
 "nbformat_minor": 2
}
