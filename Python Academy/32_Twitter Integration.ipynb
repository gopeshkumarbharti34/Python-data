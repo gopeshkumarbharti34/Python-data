{
 "cells": [
  {
   "cell_type": "code",
   "execution_count": 1,
   "metadata": {
    "collapsed": true
   },
   "outputs": [],
   "source": [
    "#conda install twython\n",
    "from twython import Twython"
   ]
  },
  {
   "cell_type": "code",
   "execution_count": 2,
   "metadata": {
    "collapsed": true
   },
   "outputs": [],
   "source": [
    "#https://apps.twitter.com\n",
    "consumer_key=\"7oKHXg6fNyrU0rZfpyR2odLyQ\"\n",
    "consumer_secret=\"bcUWwMf4nb8JHF0bmsOg2KgBPzKzLBKrvXLHX5L7oFn5XXWdwu\"\n",
    "access_token=\"1047324880583057408-t1zhqPuoG16t6EpOjZugpykHz3UUOm\"\n",
    "access_token_secret=\"HOSsxuw9vtvEonwAPQqyz2F9taIAiXmpvhvIZKyEePx2H\""
   ]
  },
  {
   "cell_type": "code",
   "execution_count": 3,
   "metadata": {
    "collapsed": true
   },
   "outputs": [],
   "source": [
    "twitter=Twython(consumer_key,consumer_secret,access_token,access_token_secret)"
   ]
  },
  {
   "cell_type": "code",
   "execution_count": 4,
   "metadata": {
    "collapsed": true
   },
   "outputs": [],
   "source": [
    "result_dict=twitter.search(q=\"Gandhi150\",lang=\"en\",count=2,result_type=\"popular\")"
   ]
  },
  {
   "cell_type": "code",
   "execution_count": 5,
   "metadata": {},
   "outputs": [
    {
     "name": "stdout",
     "output_type": "stream",
     "text": [
      "{'statuses': [{'created_at': 'Tue Oct 02 07:27:04 +0000 2018', 'id': 1047025155606794240, 'id_str': '1047025155606794240', 'text': 'Bapu unites the world! \\n\\nAmong the highlights of today’s programme was the excellent rendition of Bapu’s favourite… https://t.co/fSUjnHxcE5', 'truncated': True, 'entities': {'hashtags': [], 'symbols': [], 'user_mentions': [], 'urls': [{'url': 'https://t.co/fSUjnHxcE5', 'expanded_url': 'https://twitter.com/i/web/status/1047025155606794240', 'display_url': 'twitter.com/i/web/status/1…', 'indices': [116, 139]}]}, 'metadata': {'result_type': 'popular', 'iso_language_code': 'en'}, 'source': '<a href=\"https://studio.twitter.com\" rel=\"nofollow\">Media Studio</a>', 'in_reply_to_status_id': None, 'in_reply_to_status_id_str': None, 'in_reply_to_user_id': None, 'in_reply_to_user_id_str': None, 'in_reply_to_screen_name': None, 'user': {'id': 18839785, 'id_str': '18839785', 'name': 'Narendra Modi', 'screen_name': 'narendramodi', 'location': 'India', 'description': 'Prime Minister of India', 'url': 'http://t.co/i7NW4Bof2G', 'entities': {'url': {'urls': [{'url': 'http://t.co/i7NW4Bof2G', 'expanded_url': 'http://www.narendramodi.in', 'display_url': 'narendramodi.in', 'indices': [0, 22]}]}, 'description': {'urls': []}}, 'protected': False, 'followers_count': 44114302, 'friends_count': 2064, 'listed_count': 22710, 'created_at': 'Sat Jan 10 17:18:56 +0000 2009', 'favourites_count': 0, 'utc_offset': None, 'time_zone': None, 'geo_enabled': False, 'verified': True, 'statuses_count': 20716, 'lang': 'en', 'contributors_enabled': False, 'is_translator': False, 'is_translation_enabled': False, 'profile_background_color': 'F4EDD4', 'profile_background_image_url': 'http://abs.twimg.com/images/themes/theme1/bg.png', 'profile_background_image_url_https': 'https://abs.twimg.com/images/themes/theme1/bg.png', 'profile_background_tile': False, 'profile_image_url': 'http://pbs.twimg.com/profile_images/718314968102367232/ypY1GPCQ_normal.jpg', 'profile_image_url_https': 'https://pbs.twimg.com/profile_images/718314968102367232/ypY1GPCQ_normal.jpg', 'profile_banner_url': 'https://pbs.twimg.com/profile_banners/18839785/1502777627', 'profile_link_color': '4E7096', 'profile_sidebar_border_color': 'FFFFFF', 'profile_sidebar_fill_color': 'D5DFED', 'profile_text_color': '233863', 'profile_use_background_image': True, 'has_extended_profile': True, 'default_profile': False, 'default_profile_image': False, 'following': True, 'follow_request_sent': False, 'notifications': False, 'translator_type': 'regular'}, 'geo': None, 'coordinates': None, 'place': None, 'contributors': None, 'is_quote_status': False, 'retweet_count': 6089, 'favorite_count': 19749, 'favorited': False, 'retweeted': False, 'possibly_sensitive': False, 'lang': 'en'}, {'created_at': 'Tue Oct 02 02:45:20 +0000 2018', 'id': 1046954256127971333, 'id_str': '1046954256127971333', 'text': 'Gandhiji is not an immobile statue, he is a living set of ideas and values flowing through India. \\n\\nTruth and non-v… https://t.co/ZtTq1RT3AW', 'truncated': True, 'entities': {'hashtags': [], 'symbols': [], 'user_mentions': [], 'urls': [{'url': 'https://t.co/ZtTq1RT3AW', 'expanded_url': 'https://twitter.com/i/web/status/1046954256127971333', 'display_url': 'twitter.com/i/web/status/1…', 'indices': [117, 140]}]}, 'metadata': {'result_type': 'popular', 'iso_language_code': 'en'}, 'source': '<a href=\"http://twitter.com/download/iphone\" rel=\"nofollow\">Twitter for iPhone</a>', 'in_reply_to_status_id': None, 'in_reply_to_status_id_str': None, 'in_reply_to_user_id': None, 'in_reply_to_user_id_str': None, 'in_reply_to_screen_name': None, 'user': {'id': 3171712086, 'id_str': '3171712086', 'name': 'Rahul Gandhi', 'screen_name': 'RahulGandhi', 'location': '12, Tughlak Lane, New Delhi', 'description': 'This is the official account of Rahul Gandhi | Member of Parliament | President, Indian National Congress', 'url': 'https://t.co/SEtVqlka92', 'entities': {'url': {'urls': [{'url': 'https://t.co/SEtVqlka92', 'expanded_url': 'http://www.inc.in', 'display_url': 'inc.in', 'indices': [0, 23]}]}, 'description': {'urls': []}}, 'protected': False, 'followers_count': 7728455, 'friends_count': 186, 'listed_count': 1800, 'created_at': 'Sat Apr 25 06:39:15 +0000 2015', 'favourites_count': 284, 'utc_offset': None, 'time_zone': None, 'geo_enabled': False, 'verified': True, 'statuses_count': 3918, 'lang': 'en', 'contributors_enabled': False, 'is_translator': False, 'is_translation_enabled': False, 'profile_background_color': 'C0DEED', 'profile_background_image_url': 'http://abs.twimg.com/images/themes/theme1/bg.png', 'profile_background_image_url_https': 'https://abs.twimg.com/images/themes/theme1/bg.png', 'profile_background_tile': False, 'profile_image_url': 'http://pbs.twimg.com/profile_images/974851878860312582/O-Zn2b72_normal.jpg', 'profile_image_url_https': 'https://pbs.twimg.com/profile_images/974851878860312582/O-Zn2b72_normal.jpg', 'profile_banner_url': 'https://pbs.twimg.com/profile_banners/3171712086/1430826926', 'profile_link_color': '1DA1F2', 'profile_sidebar_border_color': 'C0DEED', 'profile_sidebar_fill_color': 'DDEEF6', 'profile_text_color': '333333', 'profile_use_background_image': True, 'has_extended_profile': False, 'default_profile': True, 'default_profile_image': False, 'following': False, 'follow_request_sent': False, 'notifications': False, 'translator_type': 'none'}, 'geo': None, 'coordinates': None, 'place': None, 'contributors': None, 'is_quote_status': False, 'retweet_count': 6548, 'favorite_count': 23080, 'favorited': False, 'retweeted': False, 'possibly_sensitive': False, 'lang': 'en'}], 'search_metadata': {'completed_in': 0.025, 'max_id': 0, 'max_id_str': '0', 'next_results': '?max_id=1046954256127971332&q=Gandhi150&lang=en&count=2&include_entities=1&result_type=popular', 'query': 'Gandhi150', 'count': 2, 'since_id': 0, 'since_id_str': '0'}}\n"
     ]
    }
   ],
   "source": [
    "print(result_dict)"
   ]
  },
  {
   "cell_type": "code",
   "execution_count": 7,
   "metadata": {},
   "outputs": [
    {
     "name": "stdout",
     "output_type": "stream",
     "text": [
      "Bapu unites the world! \n",
      "\n",
      "Among the highlights of today’s programme was the excellent rendition of Bapu’s favourite… https://t.co/fSUjnHxcE5\n",
      "############################################################################\n",
      "Gandhiji is not an immobile statue, he is a living set of ideas and values flowing through India. \n",
      "\n",
      "Truth and non-v… https://t.co/ZtTq1RT3AW\n",
      "############################################################################\n"
     ]
    }
   ],
   "source": [
    "list_tweets=result_dict[\"statuses\"]\n",
    "for tweet in list_tweets:\n",
    "    print(tweet['text'])\n",
    "    print(\"############################################################################\")"
   ]
  },
  {
   "cell_type": "code",
   "execution_count": null,
   "metadata": {
    "collapsed": true
   },
   "outputs": [],
   "source": []
  },
  {
   "cell_type": "code",
   "execution_count": null,
   "metadata": {
    "collapsed": true
   },
   "outputs": [],
   "source": []
  }
 ],
 "metadata": {
  "kernelspec": {
   "display_name": "Python 3",
   "language": "python",
   "name": "python3"
  },
  "language_info": {
   "codemirror_mode": {
    "name": "ipython",
    "version": 3
   },
   "file_extension": ".py",
   "mimetype": "text/x-python",
   "name": "python",
   "nbconvert_exporter": "python",
   "pygments_lexer": "ipython3",
   "version": "3.6.3"
  }
 },
 "nbformat": 4,
 "nbformat_minor": 2
}
